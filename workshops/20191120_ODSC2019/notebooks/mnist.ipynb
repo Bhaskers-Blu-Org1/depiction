{
 "nbformat": 4,
 "nbformat_minor": 2,
 "metadata": {
  "language_info": {
   "name": "python",
   "codemirror_mode": {
    "name": "ipython",
    "version": 3
   }
  },
  "orig_nbformat": 2,
  "file_extension": ".py",
  "mimetype": "text/x-python",
  "name": "python",
  "npconvert_exporter": "python",
  "pygments_lexer": "ipython3",
  "version": 3
 },
 "cells": [
  {
   "cell_type": "markdown",
   "execution_count": null,
   "metadata": {},
   "outputs": [],
   "source": [
    "# Interpreting predictions on MNIST"
   ]
  },
  {
   "cell_type": "code",
   "execution_count": 8,
   "metadata": {},
   "outputs": [],
   "source": [
    "# imports\n",
    "import tempfile\n",
    "import numpy as np\n",
    "from matplotlib import pyplot as plt\n",
    "from depiction.core import Task, DataType"
   ]
  },
  {
   "cell_type": "code",
   "execution_count": 18,
   "metadata": {},
   "outputs": [],
   "source": [
    "# plotting\n",
    "plt.gray()"
   ]
  },
  {
   "cell_type": "code",
   "execution_count": 27,
   "metadata": {},
   "outputs": [],
   "source": [
    "# general variables\n",
    "# NOTE: get a valid cache (but only once!)\n",
    "CACHE_DIR = None\n",
    "if CACHE_DIR is None:\n",
    "    CACHE_DIR = tempfile.mkdtemp()"
   ]
  },
  {
   "cell_type": "code",
   "execution_count": 63,
   "metadata": {},
   "outputs": [],
   "source": [
    "# a bunch of useful functions\n",
    "def transform(x):\n",
    "    \"\"\"\n",
    "    Move to -0.5, 0.5 range and add channel dimension.\n",
    "    \n",
    "    Args:\n",
    "        x (np.ndarray): a 2D-array representing an image.\n",
    "\n",
    "    Returns:\n",
    "        np.ndarray: a 3D-array representing the transformed image.\n",
    "    \"\"\"\n",
    "    return np.expand_dims(x.astype('float32') / 255 - 0.5, axis=-1)\n",
    "\n",
    "\n",
    "def transform_sample(x):\n",
    "    \"\"\"\n",
    "    Add dimension representing the batch size.\n",
    "\n",
    "    Args:\n",
    "        x (np.ndarray): a 3D-array represnting an image.\n",
    "    \n",
    "    Returns:\n",
    "        np.ndarray: a 4D-array representing a batch with a\n",
    "            single image.\n",
    "    \"\"\"\n",
    "    return np.expand_dims(transform(x), axis=0)\n",
    "\n",
    "\n",
    "def inverse_transform(x):\n",
    "    \"\"\"\n",
    "    Apply an inverse transform on a batch with a single image.\n",
    "\n",
    "    Args:\n",
    "        x (np.ndarray): a 4D-array representing a batch with a\n",
    "            single image.\n",
    "    \n",
    "    Returns:\n",
    "        np.ndarray: a 3D-array represnting an image.\n",
    "    \"\"\"\n",
    "    return (x.squeeze() + 0.5) * 255\n",
    "\n",
    "\n",
    "def show_image(x, title=None):\n",
    "    \"\"\"\n",
    "    Show an image.\n",
    "\n",
    "    Args:\n",
    "        x (np.ndarray): a 4D-array representing a batch with a\n",
    "            single image.\n",
    "        title (str): optional title.\n",
    "    \"\"\"\n",
    "    axes_image = plt.imshow(x.squeeze())\n",
    "    axes_image.axes.set_xticks([], [])\n",
    "    axes_image.axes.set_yticks([], [])\n",
    "    if title is not None:\n",
    "        axes_image.axes.set_title(title)\n",
    "    return axes_image"
   ]
  },
  {
   "cell_type": "markdown",
   "execution_count": null,
   "metadata": {},
   "outputs": [],
   "source": [
    "## Instantiate a model to intepret"
   ]
  },
  {
   "cell_type": "code",
   "execution_count": 38,
   "metadata": {},
   "outputs": [],
   "source": [
    "from depiction.models.keras import KerasModel\n",
    "from tensorflow.keras.models import load_model\n",
    "from depiction.models.base.utils import get_model_file\n",
    "\n",
    "depiction_model = KerasModel(\n",
    "    load_model(\n",
    "        get_model_file(\n",
    "            filename='mninst_cnn.h5',\n",
    "            origin='https://ibm.box.com/shared/static/v3070m2y62qw4mpwl04pee75n0zg681g.h5',\n",
    "            cache_dir=CACHE_DIR\n",
    "        )\n",
    "    ),\n",
    "    task=Task.CLASSIFICATION, data_type=DataType.IMAGE\n",
    ")\n",
    "depiction_model._model.summary()"
   ]
  },
  {
   "cell_type": "markdown",
   "execution_count": null,
   "metadata": {},
   "outputs": [],
   "source": [
    "## Get data"
   ]
  },
  {
   "cell_type": "code",
   "execution_count": 49,
   "metadata": {},
   "outputs": [],
   "source": [
    "from tensorflow.keras.datasets.mnist import load_data\n",
    "(x_train, y_train), (x_test, y_test) = load_data()\n",
    "print('x_train shape:', x_train.shape, 'y_train shape:', y_train.shape)\n",
    "print('x_test shape:', x_test.shape, 'y_test shape:', y_test.shape)"
   ]
  },
  {
   "cell_type": "code",
   "execution_count": 67,
   "metadata": {},
   "outputs": [],
   "source": [
    "index = 42\n",
    "example = transform_sample(x_train[index])\n",
    "label = y_train[index]\n",
    "show_image(\n",
    "    example,\n",
    "    title=f'True={label} Predicted={np.argmax(depiction_model.predict(example))}'\n",
    ")"
   ]
  },
  {
   "cell_type": "markdown",
   "execution_count": null,
   "metadata": {},
   "outputs": [],
   "source": [
    "## LIME"
   ]
  },
  {
   "cell_type": "code",
   "execution_count": 68,
   "metadata": {},
   "outputs": [],
   "source": [
    "from depiction.interpreters.u_wash import UWasher\n",
    "\n",
    "interpreter = UWasher('lime', depiction_model)"
   ]
  },
  {
   "cell_type": "code",
   "execution_count": 76,
   "metadata": {},
   "outputs": [],
   "source": [
    "# handle example shapes"
   ]
  },
  {
   "cell_type": "code",
   "execution_count": 72,
   "metadata": {},
   "outputs": [],
   "source": [
    "interpreter.interpret(example)"
   ]
  },
  {
   "cell_type": "markdown",
   "execution_count": null,
   "metadata": {},
   "outputs": [],
   "source": [
    "## Anchors"
   ]
  },
  {
   "cell_type": "code",
   "execution_count": 0,
   "metadata": {},
   "outputs": [],
   "source": [
    "from depiction.interpreters.u_wash import UWasher\n",
    "\n",
    "interpreter = UWasher('anchors', depiction_model)"
   ]
  },
  {
   "cell_type": "code",
   "execution_count": 0,
   "metadata": {},
   "outputs": [],
   "source": [
    "interpreter.interpret(example)"
   ]
  },
  {
   "cell_type": "markdown",
   "execution_count": null,
   "metadata": {},
   "outputs": [],
   "source": [
    "## CEM"
   ]
  },
  {
   "cell_type": "code",
   "execution_count": null,
   "metadata": {},
   "outputs": [],
   "source": []
  },
  {
   "cell_type": "code",
   "execution_count": null,
   "metadata": {},
   "outputs": [],
   "source": []
  },
  {
   "cell_type": "markdown",
   "execution_count": null,
   "metadata": {},
   "outputs": [],
   "source": [
    "## Counterfactual explanations"
   ]
  }
 ]
}
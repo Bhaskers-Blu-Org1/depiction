{
 "cells": [
  {
   "cell_type": "markdown",
   "metadata": {},
   "source": [
    "# Depiction - A meta-interpretability toolbox"
   ]
  },
  {
   "cell_type": "markdown",
   "metadata": {},
   "source": [
    "## Why interpretability?"
   ]
  },
  {
   "cell_type": "markdown",
   "metadata": {},
   "source": [
    "In the last decade, the application of deep neural networks to long-standing problems has brought a break-through in performance and prediction power. However, high accuracy, deriving from the increased model complexity, often comes at the price of loss of interpretability, i.e., many of these models behave as black-boxes and fail to provide explanations on their predictions. While in certain application fields this issue may play a secondary role, in high risk domains, e.g., health care, it is crucial to build trust in a model and being able to understand its behaviour."
   ]
  },
  {
   "cell_type": "markdown",
   "metadata": {},
   "source": [
    "## What is interpretability?"
   ]
  },
  {
   "cell_type": "markdown",
   "metadata": {},
   "source": [
    "The definition of the verb *interpret* is \"to explain or tell the meaning of : present in understandable terms\" ([Merriam-Webster 2019](https://www.merriam-webster.com/dictionary/interpret)). Despite the apparent simplicity of this statement, the machine learning research community is struggling to agree upon a formal definition of the concept of interpretability/explainability. In the last years, in the room left by this lack of formalism, many methodologies have been proposed based on different \"interpretations\" (pun intended) of the above defintion. While the proliferation of this multitude of disparate algorithms has posed challenges on rigorously comparing them, it is nevertheless interesting and useful to apply these techniques to analyze the behaviour of deep learning models."
   ]
  },
  {
   "cell_type": "markdown",
   "metadata": {},
   "source": [
    "## What is this tutorial about?"
   ]
  },
  {
   "cell_type": "markdown",
   "metadata": {},
   "source": [
    "This tutorial focuses on illustrating some of the recent advancements in the field of interpretable deep learning. We will show common techniques that can be used to explain predictions on pretrained models and that can be used to shed light on their inner mechanisms. The tutorial is aimed to strike the right balance between theoretical input and practical exercises. The session has been designed to provide the participants not only with the theory behind deep learning interpretability, but also to offer a set of frameworks and tools that they can easily reuse in their own projects."
   ]
  },
  {
   "cell_type": "markdown",
   "metadata": {},
   "source": [
    "## Depiction"
   ]
  },
  {
   "cell_type": "markdown",
   "metadata": {},
   "source": [
    "The group of Cognitive Health Care and Life Sciences at IBM Research Zürich has opensourced a python toolbox, [depiction](https://github.com/IBM/depiction), with the aim of providing a framework to ease the application of explainability methods on custom models, especially for less experienced users. The module provide wrappers for multiple algorithms and is continously updated including the latest algorithms from [AIX360](https://github.com/IBM/AIX360.git). The core concept behind depiction is to allow users to seamlessly run state-of-art interpretability methods with minimal requirements in terms of programming skills. Below an example of how depiction can be used to analyze a pretrained model."
   ]
  },
  {
   "cell_type": "markdown",
   "metadata": {},
   "source": [
    "### A simple example - Wrapping a pretrained Keras Model"
   ]
  },
  {
   "cell_type": "markdown",
   "metadata": {},
   "source": [
    "Let's assume to have a fancy model for classification of tabular data pretrained in Keras and available at a public url. Explaining its predictions with `depiction` is easy as implementing a lightweight wrapper of `depiction.models.uri.HTTPModel` where its `predict` method is overridden."
   ]
  },
  {
   "cell_type": "markdown",
   "metadata": {},
   "source": [
    "```python\n",
    "from depiction.core import Task, DataType\n",
    "from depiction.models.uri import HTTPModel\n",
    "\n",
    "\n",
    "class FancyModel(HTTPModel):\n",
    "    \"\"\"A fancy classifier.\"\"\"\n",
    "\n",
    "\n",
    "    def __init__(self,\n",
    "        filename='fancy_model.h5',\n",
    "        origin='https://url/to/my/fancy_model.h5',\n",
    "        cache_dir='/path/to/cache/models',\n",
    "        *args, **kwargs):\n",
    "        \"\"\"Initialize the FancyModel.\"\"\"\n",
    "        super().__init__(\n",
    "            uri=origin,\n",
    "            task=Task.CLASSIFICATION,\n",
    "            data_type=DataType.TABULAR,\n",
    "            cache_dir=cache_dir,\n",
    "            filename=filename\n",
    "        )\n",
    "        self.model = keras.models.load_model(self.model_path)\n",
    "\n",
    "    def predict(self, sample, *args, **kwargs):\n",
    "        \"\"\"\n",
    "        Run the fancy model for inference on a given sample and with the provided\n",
    "        parameters.\n",
    "\n",
    "        Args:\n",
    "            sample (object): an input sample for the model.\n",
    "            args (list): list of arguments.\n",
    "            kwargs (dict): list of key-value arguments.\n",
    "\n",
    "        Returns:\n",
    "            a prediction for the model on the given sample.\n",
    "        \"\"\"\n",
    "        return self.model.predict(\n",
    "            sample,\n",
    "            batch_size=None, verbose=0,\n",
    "            steps=None, callbacks=None\n",
    "        )\n",
    "```"
   ]
  },
  {
   "cell_type": "markdown",
   "metadata": {},
   "source": [
    "Once `FancyModel` is implemented, using any of the `depiction.interpreters` available in the library, is as easy as typing:"
   ]
  },
  {
   "cell_type": "markdown",
   "metadata": {},
   "source": [
    "```python\n",
    "fancy_model = FancyModel()\n",
    "# NOTE: interpreters are implemented inheriting from\n",
    "# depiction.interpreters.base.base_interpreter.BaseInterpreter\n",
    "# and they share a common interface.\n",
    "explanations = interpreter.interpret(example)\n",
    "```"
   ]
  },
  {
   "cell_type": "markdown",
   "metadata": {},
   "source": [
    "### Another simple example - Rule-based interpretable method"
   ]
  },
  {
   "cell_type": "markdown",
   "metadata": {},
   "source": [
    "Here we show as an example how *easy* is to use **Generalized linear rule models** in `depiction` [(Wei D. et al. 2019)](http://proceedings.mlr.press/v97/wei19a/wei19a.pdf). Note that in this example we are using the model as an *ante-hoc global interpretable method*. "
   ]
  },
  {
   "cell_type": "code",
   "execution_count": 1,
   "metadata": {},
   "outputs": [],
   "source": [
    "import numpy as np\n",
    "import pandas as pd\n",
    "from sklearn.datasets import load_iris\n",
    "from depiction.interpreters.aix360.rule_based_model import RuleAIX360"
   ]
  },
  {
   "cell_type": "code",
   "execution_count": 2,
   "metadata": {},
   "outputs": [],
   "source": [
    "# Create dataset. \n",
    "# NOTE: for the purpose of this example, we will ignore some ML best practices, \n",
    "#       such as train-validation-test splitting.\n",
    "dataset = load_iris()\n",
    "\n",
    "X = pd.DataFrame(dataset.data, columns=dataset.feature_names)\n",
    "# Rule-based explainers work only with binary classifiers.\n",
    "# In this example, we want to explain class 'setosa'\n",
    "y = np.array(dataset.target == np.where(dataset.target_names == 'setosa')).astype(np.int).flatten()"
   ]
  },
  {
   "cell_type": "code",
   "execution_count": 3,
   "metadata": {},
   "outputs": [],
   "source": [
    "# Create explainable model\n",
    "explainable_model = RuleAIX360('glrm_linear', X=X, y=y)"
   ]
  },
  {
   "cell_type": "code",
   "execution_count": 4,
   "metadata": {},
   "outputs": [
    {
     "name": "stdout",
     "output_type": "stream",
     "text": [
      "                                                   rule coefficient\n",
      "0  (intercept)                                           0.524881  \n",
      "1  sepal width (cm) > 2.70 AND petal width (cm) <= 1.16  0.616186  \n",
      "2  petal length (cm) > 1.70 AND petal width (cm) > 0.40 -0.587525  \n",
      "3  sepal length (cm) > 5.27 AND petal width (cm) > 0.40 -0.0871229 \n",
      "4  sepal width (cm) <= 3.20 AND petal width (cm) > 0.40 -0.0698256 \n",
      "5  petal width (cm) <= 1.16                              0.0311023 \n",
      "6  petal width (cm) <= 0.40                              0.0122838 \n",
      "7  petal length (cm) <= 1.70                             0.012283  \n",
      "8  petal length (cm) <= 3.90                            -0.00140309\n"
     ]
    }
   ],
   "source": [
    "# Explain model\n",
    "pd.set_option('display.max_colwidth', -1)\n",
    "explainable_model.interpret();"
   ]
  },
  {
   "cell_type": "markdown",
   "metadata": {},
   "source": [
    "Since the *iris* dataset is a relatively easy one, i.e., it can be solved with a linear model, we can easily double check if the rules learned by the **interpretable model** make sense. In the following, we show the samples from the dataset on a 2D plot where the axes are the *sepal width* and *petal width*. The *setosa* samples are shown in blue, while the others are in red. The blue area denotes the region described by the most important rule inferred by the interpretable model (line 1 of the output)."
   ]
  },
  {
   "cell_type": "code",
   "execution_count": 5,
   "metadata": {},
   "outputs": [
    {
     "data": {
      "text/plain": [
       "<matplotlib.patches.Polygon at 0x7fa0bcec0f98>"
      ]
     },
     "execution_count": 5,
     "metadata": {},
     "output_type": "execute_result"
    },
    {
     "data": {
      "image/png": "[encoded data removed]",
      "text/plain": [
       "<Figure size 432x288 with 1 Axes>"
      ]
     },
     "metadata": {
      "needs_background": "light"
     },
     "output_type": "display_data"
    }
   ],
   "source": [
    "import seaborn as sns\n",
    "import matplotlib.pyplot as plt\n",
    "\n",
    "sns.scatterplot(x=\"sepal width (cm)\", y=\"petal width (cm)\", data=X.iloc[y == 1], color='b')\n",
    "sns.scatterplot(x=\"sepal width (cm)\", y=\"petal width (cm)\", data=X.iloc[y == 0], color='r')\n",
    "ax = plt.gca()\n",
    "ax.axvspan(xmin=2.70, xmax=ax.get_xlim()[1], ymin=0, ymax=(1.16 - ax.get_ylim()[0])/ax.get_ylim()[1], facecolor='b', alpha=0.4)"
   ]
  },
  {
   "cell_type": "code",
   "execution_count": null,
   "metadata": {},
   "outputs": [],
   "source": []
  }
 ],
 "metadata": {
  "kernelspec": {
   "display_name": "Python 3",
   "language": "python",
   "name": "python3"
  },
  "language_info": {
   "codemirror_mode": {
    "name": "ipython",
    "version": 3
   },
   "file_extension": ".py",
   "mimetype": "text/x-python",
   "name": "python",
   "nbconvert_exporter": "python",
   "pygments_lexer": "ipython3",
   "version": "3.6.5"
  }
 },
 "nbformat": 4,
 "nbformat_minor": 2
}

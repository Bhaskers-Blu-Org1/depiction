{
 "cells": [
  {
   "cell_type": "markdown",
   "metadata": {},
   "source": [
    "# `depiction` - A meta-interpretability toolbox"
   ]
  },
  {
   "cell_type": "markdown",
   "metadata": {},
   "source": [
    "## Why interpretability?"
   ]
  },
  {
   "cell_type": "markdown",
   "metadata": {},
   "source": [
    "In the last decade, the application of deep neural networks to long-standing problems has brought a break-through in performance and prediction power. However, high accuracy, deriving from the increased model complexity, often comes at the price of loss of interpretability, i.e., many of these models behave as black-boxes and fail to provide explanations on their predictions. While in certain application fields this issue may play a secondary role, in high risk domains, e.g., health care, it is crucial to build trust in a model and being able to understand its behaviour."
   ]
  },
  {
   "cell_type": "markdown",
   "metadata": {},
   "source": [
    "## What is interpretability?"
   ]
  },
  {
   "cell_type": "markdown",
   "metadata": {},
   "source": [
    "The definition of the verb *interpret* is \"to explain or tell the meaning of : present in understandable terms\" ([Merriam-Webster 2019](https://www.merriam-webster.com/dictionary/interpret)). Despite the apparent simplicity of this statement, the machine learning research community is struggling to agree upon a formal definition of the concept of interpretability/explainability. In the last years, in the room left by this lack of formalism, many methodologies have been proposed based on different \"interpretations\" (pun intended) of the above defintion. While the proliferation of this multitude of disparate algorithms has posed challenges on rigorously comparing them, it is nevertheless interesting and useful to apply these techniques to analyze the behaviour of deep learning models."
   ]
  },
  {
   "cell_type": "markdown",
   "metadata": {},
   "source": [
    "## `depiction`"
   ]
  },
  {
   "cell_type": "markdown",
   "metadata": {},
   "source": [
    "The group of Cognitive Health Care and Life Sciences at IBM Research Zürich has opensourced a python toolbox, [`depiction`](https://github.com/IBM/depiction), with the aim of providing a framework to ease the application of explainability methods on custom models, especially for less experienced users. The module provide wrappers for multiple algorithms and is continously updated including the latest algorithms from [AIX360](https://github.com/IBM/AIX360.git). The core concept behind `depiction` is to allow users to seamlessly run state-of-art interpretability methods with minimal requirements in terms of programming skills. Below an example of how `depiction` can be used to analyze a pretrained model."
   ]
  },
  {
   "cell_type": "markdown",
   "metadata": {},
   "source": [
    "### A simple example - Wrapping a pretrained Keras Model"
   ]
  },
  {
   "cell_type": "markdown",
   "metadata": {},
   "source": [
    "Let's assume to have a fancy model for classification of tabular data pretrained in Keras and available at a public url. Explaining its predictions with `depiction` is easy as implementing a lightweight wrapper of `depiction.models.uri.HTTPModel` where its `predict` method is overridden."
   ]
  },
  {
   "cell_type": "markdown",
   "metadata": {},
   "source": [
    "```python\n",
    "from depiction.core import Task, DataType\n",
    "from depiction.models.uri import HTTPModel\n",
    "\n",
    "\n",
    "class FancyModel(HTTPModel):\n",
    "    \"\"\"A fancy classifier.\"\"\"\n",
    "\n",
    "\n",
    "    def __init__(self,\n",
    "        filename='fancy_model.h5',\n",
    "        origin='https://url/to/my/fancy_model.h5',\n",
    "        cache_dir='/path/to/cache/models',\n",
    "        *args, **kwargs):\n",
    "        \"\"\"Initialize the FancyModel.\"\"\"\n",
    "        super().__init__(\n",
    "            uri=origin,\n",
    "            task=Task.CLASSIFICATION,\n",
    "            data_type=DataType.TABULAR,\n",
    "            cache_dir=cache_dir,\n",
    "            filename=filename\n",
    "        )\n",
    "        self.model = keras.models.load_model(self.model_path)\n",
    "\n",
    "    def predict(self, sample, *args, **kwargs):\n",
    "        \"\"\"\n",
    "        Run the fancy model for inference on a given sample and with the provided\n",
    "        parameters.\n",
    "\n",
    "        Args:\n",
    "            sample (object): an input sample for the model.\n",
    "            args (list): list of arguments.\n",
    "            kwargs (dict): list of key-value arguments.\n",
    "\n",
    "        Returns:\n",
    "            a prediction for the model on the given sample.\n",
    "        \"\"\"\n",
    "        return self.model.predict(\n",
    "            sample,\n",
    "            batch_size=None, verbose=0,\n",
    "            steps=None, callbacks=None\n",
    "        )\n",
    "```"
   ]
  },
  {
   "cell_type": "markdown",
   "metadata": {},
   "source": [
    "Once `FancyModel` is implemented, using any of the `depiction.interpreters` available in the library, is as easy as typing:"
   ]
  },
  {
   "cell_type": "markdown",
   "metadata": {},
   "source": [
    "```python\n",
    "fancy_model = FancyModel()\n",
    "# NOTE: interpreters are implemented inheriting from\n",
    "# depiction.interpreters.base.base_interpreter.BaseInterpreter\n",
    "# and they share a common interface.\n",
    "explanations = interpreter.interpret(example)\n",
    "```"
   ]
  },
  {
   "cell_type": "markdown",
   "metadata": {},
   "source": [
    "### Run an intepreter from AIX360 - Rule-based interpretable method"
   ]
  },
  {
   "cell_type": "code",
   "execution_count": 1,
   "metadata": {},
   "outputs": [],
   "source": [
    "import warnings\n",
    "from sklearn.exceptions import ConvergenceWarning\n",
    "warnings.filterwarnings('ignore', category=RuntimeWarning)\n",
    "warnings.filterwarnings('ignore', category=FutureWarning)\n",
    "warnings.filterwarnings('ignore', category=ConvergenceWarning)\n",
    "import numpy as np\n",
    "import pandas as pd\n",
    "pd.set_option('display.max_colwidth', -1)\n",
    "import seaborn as sns\n",
    "import matplotlib.pyplot as plt\n",
    "from sklearn import neural_network\n",
    "from sklearn.datasets import load_iris\n",
    "from sklearn.preprocessing import OneHotEncoder\n",
    "from sklearn.model_selection import train_test_split\n",
    "from depiction.core import Task, DataType\n",
    "from depiction.models.base import BinarizedClassifier\n",
    "from depiction.interpreters.aix360.rule_based_model import RuleAIX360"
   ]
  },
  {
   "cell_type": "markdown",
   "metadata": {},
   "source": [
    "Here we show as an example how *easy* is to use **Generalized linear rule models** in `depiction` [(Wei D. et al. 2019)](http://proceedings.mlr.press/v97/wei19a/wei19a.pdf)."
   ]
  },
  {
   "cell_type": "markdown",
   "metadata": {},
   "source": [
    "#### Get the data\n",
    "Let's get some data to play with."
   ]
  },
  {
   "cell_type": "code",
   "execution_count": 2,
   "metadata": {},
   "outputs": [],
   "source": [
    "# Create a dataset. \n",
    "dataset = load_iris()\n",
    "\n",
    "# Rule-based explainers work only with binary classifiers.\n",
    "# In this example, we want to explain class 'setosa'\n",
    "X = pd.DataFrame(dataset.data, columns=dataset.feature_names)\n",
    "y_one_hot = OneHotEncoder().fit_transform(dataset.target.reshape(-1, 1)).todense()\n",
    "\n",
    "label = 'setosa'\n",
    "label_index = np.where(dataset.target_names == label)[0].item()\n",
    "y = np.array(dataset.target == label_index).astype(np.int).flatten()\n",
    "\n",
    "# NOTE: for the purpose of this example, we avoid to generate a validation split.\n",
    "X_train, X_test, y_train, y_test, y_train_one_hot, y_test_one_hot = train_test_split(\n",
    "    X, y, y_one_hot, test_size=0.33, random_state=42, stratify=y\n",
    ")"
   ]
  },
  {
   "cell_type": "markdown",
   "metadata": {},
   "source": [
    "#### Ante-hoc version\n",
    "In the following we are using the model as an *ante-hoc global interpretable method*."
   ]
  },
  {
   "cell_type": "code",
   "execution_count": 3,
   "metadata": {},
   "outputs": [],
   "source": [
    "# Create explainable model, interpreting the whole dataset\n",
    "ante_hoc_model = RuleAIX360('glrm_linear', X=X, y=y)"
   ]
  },
  {
   "cell_type": "code",
   "execution_count": 4,
   "metadata": {
    "scrolled": true
   },
   "outputs": [
    {
     "name": "stdout",
     "output_type": "stream",
     "text": [
      "                                                   rule coefficient\n",
      "0  (intercept)                                           0.524881  \n",
      "1  sepal width (cm) > 2.70 AND petal width (cm) <= 1.16  0.616186  \n",
      "2  petal length (cm) > 1.70 AND petal width (cm) > 0.40 -0.587525  \n",
      "3  sepal length (cm) > 5.27 AND petal width (cm) > 0.40 -0.0871229 \n",
      "4  sepal width (cm) <= 3.20 AND petal width (cm) > 0.40 -0.0698256 \n",
      "5  petal width (cm) <= 1.16                              0.0311023 \n",
      "6  petal width (cm) <= 0.40                              0.0122838 \n",
      "7  petal length (cm) <= 1.70                             0.012283  \n",
      "8  petal length (cm) <= 3.90                            -0.00140309\n"
     ]
    }
   ],
   "source": [
    "# Explain model\n",
    "ante_hoc_model.interpret();"
   ]
  },
  {
   "cell_type": "markdown",
   "metadata": {},
   "source": [
    "Since the *iris* dataset is a relatively easy one, i.e., it can be solved with a linear model, we can easily double check if the rules learned by the **interpretable model** make sense. In the following, we show the samples from the dataset on a 2D plot where the axes are the *sepal width* and *petal width*. The *setosa* samples are shown in blue, while the others are in red. The blue area denotes the region described by the most important rule inferred by the interpretable model (line 1 of the output)."
   ]
  },
  {
   "cell_type": "code",
   "execution_count": 5,
   "metadata": {},
   "outputs": [
    {
     "data": {
      "image/png": "[encoded data removed]",
      "text/plain": [
       "<Figure size 432x288 with 1 Axes>"
      ]
     },
     "metadata": {
      "needs_background": "light"
     },
     "output_type": "display_data"
    }
   ],
   "source": [
    "sns.scatterplot(x='sepal width (cm)', y='petal width (cm)', data=X.iloc[y == 1], color='b')\n",
    "sns.scatterplot(x='sepal width (cm)', y='petal width (cm)', data=X.iloc[y == 0], color='r')\n",
    "ax = plt.gca()\n",
    "_ = ax.axvspan(\n",
    "    xmin=2.70, xmax=ax.get_xlim()[1], ymin=0, ymax=(1.16 - ax.get_ylim()[0])/ax.get_ylim()[1],\n",
    "    facecolor='b', alpha=0.4\n",
    ")"
   ]
  },
  {
   "cell_type": "markdown",
   "metadata": {},
   "source": [
    "![easy task](http://www.relatably.com/m/img/easy-memes/5av4tz.jpg)"
   ]
  },
  {
   "cell_type": "markdown",
   "metadata": {},
   "source": [
    "#### Post-hoc version\n",
    "In the following we are using the model as a *post-hoc global interpretable method*, by analysing a very bad MLP."
   ]
  },
  {
   "cell_type": "code",
   "execution_count": 6,
   "metadata": {},
   "outputs": [],
   "source": [
    "# train a dummy model to interpret\n",
    "classifier = neural_network.MLPClassifier(hidden_layer_sizes=(8,), alpha=0.0001, random_state=84)\n",
    "_ = classifier.fit(X_train, y_train_one_hot)"
   ]
  },
  {
   "cell_type": "markdown",
   "metadata": {},
   "source": [
    "To act in a real word scenario we assume we got a black-box model with no ground-truth. Can we get a feeling of the model quality without having access to labels?"
   ]
  },
  {
   "cell_type": "code",
   "execution_count": 7,
   "metadata": {},
   "outputs": [],
   "source": [
    "# First, binarize the model to be compatible with the rule-based interpreter\n",
    "model = BinarizedClassifier(\n",
    "    classifier, data_type=DataType.TABULAR,\n",
    "    label_index=label_index\n",
    ")\n",
    "# Create explainable model, interpreting the model\n",
    "post_hoc_model = RuleAIX360(\n",
    "    'glrm_linear', X=X_test,\n",
    "    # binarize the model to be compatible with the rule-based interpreter\n",
    "    model=model\n",
    ")"
   ]
  },
  {
   "cell_type": "code",
   "execution_count": 8,
   "metadata": {
    "scrolled": false
   },
   "outputs": [
    {
     "name": "stdout",
     "output_type": "stream",
     "text": [
      "                                                                                 rule  \\\n",
      "0  (intercept)                                                                          \n",
      "1  sepal length (cm) <= 5.85 AND sepal length (cm) > 5.66 AND petal width (cm) > 1.20   \n",
      "2  petal length (cm) <= 5.23                                                            \n",
      "3  sepal length (cm) > 5.85 AND petal length (cm) <= 5.23                               \n",
      "4  sepal length (cm) > 5.66 AND petal width (cm) > 1.20                                 \n",
      "5  petal length (cm) <= 4.65                                                            \n",
      "6  sepal width (cm) > 2.70 AND petal length (cm) <= 5.23                                \n",
      "7  petal width (cm) <= 1.40                                                             \n",
      "8  sepal length (cm) <= 6.40 AND sepal length (cm) > 5.66 AND petal width (cm) > 1.20   \n",
      "\n",
      "   coefficient  \n",
      "0  7.28592e-06  \n",
      "1 -1.59998      \n",
      "2  1.19999      \n",
      "3  1.107e-05    \n",
      "4 -9.13293e-06  \n",
      "5  4.79008e-06  \n",
      "6  1.29655e-06  \n",
      "7 -1.27652e-06  \n",
      "8 -1.25063e-06  \n"
     ]
    }
   ],
   "source": [
    "# Explain model\n",
    "post_hoc_model.interpret();"
   ]
  },
  {
   "cell_type": "markdown",
   "metadata": {},
   "source": [
    "In the following, we show the samples from the test dataset on a 2D plot where the axes are the *petal width* and *sepal length*. The *setosa* samples are shown in blue, while the others are in red. The blue area denotes the region described by the most important rule inferred by the interpretable model (line 1 of the output)."
   ]
  },
  {
   "cell_type": "code",
   "execution_count": 9,
   "metadata": {
    "scrolled": false
   },
   "outputs": [
    {
     "data": {
      "image/png": "[encoded data removed]",
      "text/plain": [
       "<Figure size 432x288 with 1 Axes>"
      ]
     },
     "metadata": {
      "needs_background": "light"
     },
     "output_type": "display_data"
    }
   ],
   "source": [
    "sns.scatterplot(x=\"petal width (cm)\", y=\"sepal length (cm)\", data=X_test.iloc[y_test == 1], color='b')\n",
    "sns.scatterplot(x=\"petal width (cm)\", y=\"sepal length (cm)\", data=X_test.iloc[y_test == 0], color='r')\n",
    "ax = plt.gca()\n",
    "_ = ax.axvspan(\n",
    "    xmin=1.2, xmax=ax.get_xlim()[1], ymin=5.66, ymax=(5.85 - ax.get_ylim()[0])/ax.get_ylim()[1],\n",
    "    facecolor='b', alpha=0.4\n",
    ")"
   ]
  },
  {
   "cell_type": "markdown",
   "metadata": {},
   "source": [
    "Got it, the model is not good afterall!"
   ]
  },
  {
   "cell_type": "markdown",
   "metadata": {},
   "source": [
    "![bad model](https://memeshappen.com/media/created/2019/04/youve-been-a-bad-BOY.jpg)"
   ]
  },
  {
   "cell_type": "markdown",
   "metadata": {},
   "source": [
    "### Want to know more?"
   ]
  },
  {
   "cell_type": "markdown",
   "metadata": {},
   "source": [
    "If you found this blog post interesting and you want to know more about `depiction`. Just take a look at the repo, the examples and the workshop in our [repo](https://github.com/IBM/depiction)."
   ]
  }
 ],
 "metadata": {
  "kernelspec": {
   "display_name": "Python 3",
   "language": "python",
   "name": "python3"
  },
  "language_info": {
   "codemirror_mode": {
    "name": "ipython",
    "version": 3
   },
   "file_extension": ".py",
   "mimetype": "text/x-python",
   "name": "python",
   "nbconvert_exporter": "python",
   "pygments_lexer": "ipython3",
   "version": "3.7.5"
  }
 },
 "nbformat": 4,
 "nbformat_minor": 2
}

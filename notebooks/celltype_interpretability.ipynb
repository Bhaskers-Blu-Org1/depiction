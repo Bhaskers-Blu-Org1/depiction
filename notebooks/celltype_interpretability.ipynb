{
 "cells": [
  {
   "cell_type": "code",
   "execution_count": null,
   "metadata": {},
   "outputs": [],
   "source": [
    "import pandas as pd\n",
    "import numpy as np\n",
    "import seaborn as sns\n",
    "import ipywidgets as widgets\n",
    "from ipywidgets import interact\n",
    "from sklearn.model_selection import train_test_split\n",
    "from depiction.models.celltype import CellTyper\n",
    "from depiction.interpreters.uw_model import UWModel\n",
    "from depiction.core import Task, DataType"
   ]
  },
  {
   "cell_type": "markdown",
   "metadata": {},
   "source": [
    "## Data"
   ]
  },
  {
   "cell_type": "code",
   "execution_count": null,
   "metadata": {},
   "outputs": [],
   "source": [
    "# Load data \n",
    "datapath = '../data/single-cell/data.csv'\n",
    "data_df = pd.read_csv(datapath)\n",
    "sns.countplot(data_df.category)\n",
    "\n",
    "#  split as in traing of the model\n",
    "train_df, test_df = train_test_split(data_df, test_size=0.33, random_state=42, stratify=data_df.category)\n",
    "test_df, valid_df = train_test_split(test_df, test_size=0.67, stratify=test_df.category)\n",
    "\n",
    "\n",
    "train_df.head()"
   ]
  },
  {
   "cell_type": "code",
   "execution_count": null,
   "metadata": {},
   "outputs": [],
   "source": [
    "classifier.celltype_names"
   ]
  },
  {
   "cell_type": "markdown",
   "metadata": {},
   "source": [
    "## Loading a pretrained model\n",
    "is actually done under the hood by a child implementation of `depiction.models.Model`  \n",
    "Change `filename` (there's also `cache_dir`) to load a different model."
   ]
  },
  {
   "cell_type": "code",
   "execution_count": null,
   "metadata": {},
   "outputs": [],
   "source": [
    "# Import trained classifier\n",
    "classifier = CellTyper(filename='celltype_dnn_model.h5')"
   ]
  },
  {
   "cell_type": "markdown",
   "metadata": {},
   "source": [
    "## Layer weights"
   ]
  },
  {
   "cell_type": "code",
   "execution_count": null,
   "metadata": {},
   "outputs": [],
   "source": [
    "weights = classifier.model.layers[-1].get_weights()[0] # shape is (13, 20)\n",
    "# weights"
   ]
  },
  {
   "cell_type": "code",
   "execution_count": null,
   "metadata": {},
   "outputs": [],
   "source": [
    "sns.heatmap(pd.DataFrame(weights, index=data_df.columns[:-1], columns=meta_series))"
   ]
  },
  {
   "cell_type": "code",
   "execution_count": null,
   "metadata": {},
   "outputs": [],
   "source": [
    "Compare qualitatively to __B__ and **C**\n",
    "![manual_gated](https://science.sciencemag.org/content/sci/332/6030/687/F2.large.jpg?width=800&height=600&carousel=1)\n",
    "from https://science.sciencemag.org/content/332/6030/687/tab-figures-data"
   ]
  },
  {
   "cell_type": "markdown",
   "metadata": {},
   "source": [
    "## Interpretability methods\n",
    "helper functions and a widget to sample from a class"
   ]
  },
  {
   "cell_type": "code",
   "execution_count": null,
   "metadata": {},
   "outputs": [],
   "source": [
    "def interpret_with_lime(id_sample_to_explain):\n",
    "# Create a LIME tabular interpreter\n",
    "    explanation_configs = {\n",
    "        \"top_labels\": 1\n",
    "    }\n",
    "    interpreter_params = {\n",
    "        \"training_data\": train_df.values[:, :-1],\n",
    "        \"training_labels\": train_df.values[:, -1],\n",
    "        \"feature_names\": train_df.columns[:-1],\n",
    "        \"verbose\": True,\n",
    "        \"class_names\": classifier.celltype_names.values(),\n",
    "        \"discretize_continuous\": False,\n",
    "        \"sample_around_instance\": True\n",
    "    }\n",
    "\n",
    "    explainer = UWModel(\"lime\", Task.CLASSIFICATION, DataType.TABULAR, explanation_configs, **interpreter_params)\n",
    "\n",
    "    # explain the chosen instance wrt the chosen labels\n",
    "    explainer.interpret(classifier.predict, test_df.values[id_sample_to_explain, :-1])\n",
    "\n",
    "\n",
    "def interpret_with_anchor(id_sample_to_explain):\n",
    "    explanation_configs = {}\n",
    "    interpreter_params = {\n",
    "        \"feature_names\": train_df.columns[:-1],\n",
    "        \"class_names\": classifier.celltype_names.values(),\n",
    "        \"categorical_names\": {}\n",
    "    }\n",
    "\n",
    "    explainer = UWModel(\"anchor\", Task.CLASSIFICATION, DataType.TABULAR, explanation_configs, **interpreter_params)\n",
    "    X_train = train_df.values[:, :-1]\n",
    "    y_train = train_df.values[:, -1].astype(np.int)\n",
    "    X_valid = valid_df.values[:, :-1]\n",
    "    y_valid = valid_df.values[:, -1].astype(np.int)\n",
    "    explainer.explainer.fit(\n",
    "        X_train, y_train, X_valid, y_valid\n",
    "    )\n",
    "\n",
    "    # explain the chosen instance wrt the chosen labels\n",
    "    def new_predict(sample, **kwargs):\n",
    "        return np.argmax(classifier.predict(sample,**kwargs), axis=1)\n",
    "    explainer.interpret(new_predict, test_df.values[id_sample_to_explain, :-1])\n",
    "\n",
    "\n",
    "def interpret_random_from_class(label, interpreter=\"lime\"):\n",
    "    id_sample_to_explain = test_df.reset_index().query('category==@label').sample(n=1).index[0]\n",
    "#     sample = test_df.iloc[id_sample_to_explain]\n",
    "#     print(f\"Interpreting sample with index {id_sample_to_explain}:\\n{sample}\")\n",
    "    if interpreter==\"lime\":\n",
    "        interpret_with_lime(id_sample_to_explain)\n",
    "    else:\n",
    "        interpret_with_anchor(id_sample_to_explain)"
   ]
  },
  {
   "cell_type": "code",
   "execution_count": null,
   "metadata": {},
   "outputs": [],
   "source": [
    "interact(interpret_random_from_class, label=[(v, k) for k, v in classifier.celltype_names.items()],\n",
    "         interpreter=[\"lime\", \"anchor\"]);"
   ]
  },
  {
   "cell_type": "code",
   "execution_count": null,
   "metadata": {},
   "outputs": [],
   "source": [
    "interpret_with_anchor(5371)"
   ]
  }
 ],
 "metadata": {
  "kernelspec": {
   "display_name": "Python 3",
   "language": "python",
   "name": "python3"
  },
  "language_info": {
   "codemirror_mode": {
    "name": "ipython",
    "version": 3
   },
   "file_extension": ".py",
   "mimetype": "text/x-python",
   "name": "python",
   "nbconvert_exporter": "python",
   "pygments_lexer": "ipython3",
   "version": "3.7.3"
  }
 },
 "nbformat": 4,
 "nbformat_minor": 2
}

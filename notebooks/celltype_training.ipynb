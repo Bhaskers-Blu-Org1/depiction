{
 "cells": [
  {
   "cell_type": "markdown",
   "metadata": {},
   "source": [
    "# Training of a super simple model for celltype classification"
   ]
  },
  {
   "cell_type": "code",
   "execution_count": 1,
   "metadata": {},
   "outputs": [
    {
     "name": "stdout",
     "output_type": "stream",
     "text": [
      "/home/phineas/anaconda3/envs/depiction-env/bin/python\n",
      "Python 3.6.5 :: Anaconda, Inc.\n",
      "1.14.0\n",
      "2.2.4-tf\n",
      "/home/phineas/Documents/repos/dl-interpretability-compbio/notebooks\n"
     ]
    }
   ],
   "source": [
    "import tensorflow as tf\n",
    "!which python\n",
    "!python --version\n",
    "print(tf.VERSION)\n",
    "print(tf.keras.__version__)\n",
    "!pwd #  start jupyter under notebooks/ for correct relative paths"
   ]
  },
  {
   "cell_type": "code",
   "execution_count": 3,
   "metadata": {},
   "outputs": [],
   "source": [
    "import datetime\n",
    "import inspect\n",
    "import pandas as pd\n",
    "import numpy as np\n",
    "import seaborn as sns\n",
    "from tensorflow.keras import layers\n",
    "from tensorflow.keras.utils import to_categorical\n",
    "from sklearn.model_selection import train_test_split\n",
    "from sklearn.preprocessing import MinMaxScaler\n",
    "from depiction.models.celltype.celltype import one_hot_encoding, one_hot_decoding"
   ]
  },
  {
   "cell_type": "markdown",
   "metadata": {},
   "source": [
    "## a look at the data\n",
    "labels are categories 1-20, here's the associated celltype:"
   ]
  },
  {
   "cell_type": "code",
   "execution_count": 4,
   "metadata": {},
   "outputs": [
    {
     "data": {
      "text/html": [
       "<div>\n",
       "<style scoped>\n",
       "    .dataframe tbody tr th:only-of-type {\n",
       "        vertical-align: middle;\n",
       "    }\n",
       "\n",
       "    .dataframe tbody tr th {\n",
       "        vertical-align: top;\n",
       "    }\n",
       "\n",
       "    .dataframe thead th {\n",
       "        text-align: right;\n",
       "    }\n",
       "</style>\n",
       "<table border=\"1\" class=\"dataframe\">\n",
       "  <thead>\n",
       "    <tr style=\"text-align: right;\">\n",
       "      <th></th>\n",
       "      <th>cell type name</th>\n",
       "    </tr>\n",
       "    <tr>\n",
       "      <th>label</th>\n",
       "      <th></th>\n",
       "    </tr>\n",
       "  </thead>\n",
       "  <tbody>\n",
       "    <tr>\n",
       "      <th>1</th>\n",
       "      <td>CD11b- Monocyte</td>\n",
       "    </tr>\n",
       "    <tr>\n",
       "      <th>2</th>\n",
       "      <td>CD11bhi Monocyte</td>\n",
       "    </tr>\n",
       "    <tr>\n",
       "      <th>3</th>\n",
       "      <td>CD11bmid Monocyte</td>\n",
       "    </tr>\n",
       "    <tr>\n",
       "      <th>4</th>\n",
       "      <td>Erythroblast</td>\n",
       "    </tr>\n",
       "    <tr>\n",
       "      <th>5</th>\n",
       "      <td>HSC</td>\n",
       "    </tr>\n",
       "    <tr>\n",
       "      <th>6</th>\n",
       "      <td>Immature B</td>\n",
       "    </tr>\n",
       "    <tr>\n",
       "      <th>7</th>\n",
       "      <td>Mature CD38lo B</td>\n",
       "    </tr>\n",
       "    <tr>\n",
       "      <th>8</th>\n",
       "      <td>Mature CD38mid B</td>\n",
       "    </tr>\n",
       "    <tr>\n",
       "      <th>9</th>\n",
       "      <td>Mature CD4+ T</td>\n",
       "    </tr>\n",
       "    <tr>\n",
       "      <th>10</th>\n",
       "      <td>Mature CD8+ T</td>\n",
       "    </tr>\n",
       "    <tr>\n",
       "      <th>11</th>\n",
       "      <td>Megakaryocyte</td>\n",
       "    </tr>\n",
       "    <tr>\n",
       "      <th>12</th>\n",
       "      <td>Myelocyte</td>\n",
       "    </tr>\n",
       "    <tr>\n",
       "      <th>13</th>\n",
       "      <td>NK</td>\n",
       "    </tr>\n",
       "    <tr>\n",
       "      <th>14</th>\n",
       "      <td>Naive CD4+ T</td>\n",
       "    </tr>\n",
       "    <tr>\n",
       "      <th>15</th>\n",
       "      <td>Naive CD8+ T</td>\n",
       "    </tr>\n",
       "    <tr>\n",
       "      <th>16</th>\n",
       "      <td>Plasma cell</td>\n",
       "    </tr>\n",
       "    <tr>\n",
       "      <th>17</th>\n",
       "      <td>Plasmacytoid DC</td>\n",
       "    </tr>\n",
       "    <tr>\n",
       "      <th>18</th>\n",
       "      <td>Platelet</td>\n",
       "    </tr>\n",
       "    <tr>\n",
       "      <th>19</th>\n",
       "      <td>Pre-B II</td>\n",
       "    </tr>\n",
       "    <tr>\n",
       "      <th>20</th>\n",
       "      <td>Pre-B I</td>\n",
       "    </tr>\n",
       "  </tbody>\n",
       "</table>\n",
       "</div>"
      ],
      "text/plain": [
       "          cell type name\n",
       "label                   \n",
       "1        CD11b- Monocyte\n",
       "2       CD11bhi Monocyte\n",
       "3      CD11bmid Monocyte\n",
       "4           Erythroblast\n",
       "5                    HSC\n",
       "6             Immature B\n",
       "7        Mature CD38lo B\n",
       "8       Mature CD38mid B\n",
       "9          Mature CD4+ T\n",
       "10         Mature CD8+ T\n",
       "11         Megakaryocyte\n",
       "12             Myelocyte\n",
       "13                    NK\n",
       "14          Naive CD4+ T\n",
       "15          Naive CD8+ T\n",
       "16           Plasma cell\n",
       "17       Plasmacytoid DC\n",
       "18              Platelet\n",
       "19              Pre-B II\n",
       "20               Pre-B I"
      ]
     },
     "execution_count": 4,
     "metadata": {},
     "output_type": "execute_result"
    }
   ],
   "source": [
    "meta_series = pd.read_csv('../data/single-cell/metadata.csv', index_col=0)\n",
    "meta_series"
   ]
  },
  {
   "cell_type": "markdown",
   "metadata": {},
   "source": [
    "There are 13 unbalanced classes, and over 80k samples"
   ]
  },
  {
   "cell_type": "code",
   "execution_count": 5,
   "metadata": {},
   "outputs": [
    {
     "data": {
      "text/plain": [
       "category\n",
       "1       912\n",
       "2      6779\n",
       "3      1278\n",
       "4     12030\n",
       "5       261\n",
       "6       502\n",
       "7      7796\n",
       "8       608\n",
       "9     13964\n",
       "10     7821\n",
       "11     3684\n",
       "12     3025\n",
       "13     3864\n",
       "14     6987\n",
       "15     9564\n",
       "16      468\n",
       "17      293\n",
       "18        5\n",
       "19      994\n",
       "20      240\n",
       "Name: CD45, dtype: int64"
      ]
     },
     "execution_count": 5,
     "metadata": {},
     "output_type": "execute_result"
    }
   ],
   "source": [
    "data_df = pd.read_csv('../data/single-cell/data.csv')\n",
    "data_df.groupby('category').count()['CD45']"
   ]
  },
  {
   "cell_type": "code",
   "execution_count": 6,
   "metadata": {},
   "outputs": [
    {
     "data": {
      "text/html": [
       "<div>\n",
       "<style scoped>\n",
       "    .dataframe tbody tr th:only-of-type {\n",
       "        vertical-align: middle;\n",
       "    }\n",
       "\n",
       "    .dataframe tbody tr th {\n",
       "        vertical-align: top;\n",
       "    }\n",
       "\n",
       "    .dataframe thead th {\n",
       "        text-align: right;\n",
       "    }\n",
       "</style>\n",
       "<table border=\"1\" class=\"dataframe\">\n",
       "  <thead>\n",
       "    <tr style=\"text-align: right;\">\n",
       "      <th></th>\n",
       "      <th>CD45</th>\n",
       "      <th>CD45RA</th>\n",
       "      <th>CD19</th>\n",
       "      <th>CD11b</th>\n",
       "      <th>CD4</th>\n",
       "      <th>CD8</th>\n",
       "      <th>CD34</th>\n",
       "      <th>CD20</th>\n",
       "      <th>CD33</th>\n",
       "      <th>CD123</th>\n",
       "      <th>CD38</th>\n",
       "      <th>CD90</th>\n",
       "      <th>CD3</th>\n",
       "      <th>category</th>\n",
       "    </tr>\n",
       "  </thead>\n",
       "  <tbody>\n",
       "    <tr>\n",
       "      <th>53353</th>\n",
       "      <td>-0.69492</td>\n",
       "      <td>0.881530</td>\n",
       "      <td>-0.114340</td>\n",
       "      <td>-0.087083</td>\n",
       "      <td>1.607600</td>\n",
       "      <td>0.408030</td>\n",
       "      <td>-0.196550</td>\n",
       "      <td>-0.088004</td>\n",
       "      <td>0.31978</td>\n",
       "      <td>-0.127960</td>\n",
       "      <td>-0.11775</td>\n",
       "      <td>-0.006062</td>\n",
       "      <td>-1.25900</td>\n",
       "      <td>11</td>\n",
       "    </tr>\n",
       "    <tr>\n",
       "      <th>38224</th>\n",
       "      <td>4.44520</td>\n",
       "      <td>0.476760</td>\n",
       "      <td>-0.077736</td>\n",
       "      <td>-0.016581</td>\n",
       "      <td>3.580100</td>\n",
       "      <td>-0.219880</td>\n",
       "      <td>-0.011004</td>\n",
       "      <td>-0.059784</td>\n",
       "      <td>0.43719</td>\n",
       "      <td>-0.426980</td>\n",
       "      <td>2.31540</td>\n",
       "      <td>0.132890</td>\n",
       "      <td>4.26200</td>\n",
       "      <td>9</td>\n",
       "    </tr>\n",
       "    <tr>\n",
       "      <th>33373</th>\n",
       "      <td>4.46960</td>\n",
       "      <td>-0.561500</td>\n",
       "      <td>-0.168880</td>\n",
       "      <td>0.347350</td>\n",
       "      <td>3.076000</td>\n",
       "      <td>1.037300</td>\n",
       "      <td>-0.118600</td>\n",
       "      <td>-0.014868</td>\n",
       "      <td>-0.22350</td>\n",
       "      <td>0.220260</td>\n",
       "      <td>1.83080</td>\n",
       "      <td>1.171200</td>\n",
       "      <td>4.41170</td>\n",
       "      <td>9</td>\n",
       "    </tr>\n",
       "    <tr>\n",
       "      <th>11350</th>\n",
       "      <td>-0.31212</td>\n",
       "      <td>-0.095535</td>\n",
       "      <td>-0.161090</td>\n",
       "      <td>-0.105790</td>\n",
       "      <td>-0.010378</td>\n",
       "      <td>-0.025211</td>\n",
       "      <td>-0.040666</td>\n",
       "      <td>-0.073326</td>\n",
       "      <td>1.10760</td>\n",
       "      <td>-0.097798</td>\n",
       "      <td>1.70450</td>\n",
       "      <td>1.056600</td>\n",
       "      <td>2.82610</td>\n",
       "      <td>4</td>\n",
       "    </tr>\n",
       "    <tr>\n",
       "      <th>51254</th>\n",
       "      <td>5.25150</td>\n",
       "      <td>1.007700</td>\n",
       "      <td>0.509640</td>\n",
       "      <td>1.050100</td>\n",
       "      <td>-0.056795</td>\n",
       "      <td>5.107800</td>\n",
       "      <td>0.601790</td>\n",
       "      <td>1.621400</td>\n",
       "      <td>0.22450</td>\n",
       "      <td>-0.224580</td>\n",
       "      <td>2.41230</td>\n",
       "      <td>1.014500</td>\n",
       "      <td>5.52270</td>\n",
       "      <td>10</td>\n",
       "    </tr>\n",
       "    <tr>\n",
       "      <th>5565</th>\n",
       "      <td>4.72110</td>\n",
       "      <td>1.499900</td>\n",
       "      <td>-0.242840</td>\n",
       "      <td>3.160400</td>\n",
       "      <td>2.883800</td>\n",
       "      <td>-0.343640</td>\n",
       "      <td>0.938980</td>\n",
       "      <td>-0.093330</td>\n",
       "      <td>4.67880</td>\n",
       "      <td>2.689300</td>\n",
       "      <td>4.21780</td>\n",
       "      <td>0.585290</td>\n",
       "      <td>0.59754</td>\n",
       "      <td>2</td>\n",
       "    </tr>\n",
       "    <tr>\n",
       "      <th>2398</th>\n",
       "      <td>3.87100</td>\n",
       "      <td>-0.032058</td>\n",
       "      <td>-0.108210</td>\n",
       "      <td>2.530300</td>\n",
       "      <td>0.743860</td>\n",
       "      <td>-0.021683</td>\n",
       "      <td>0.960550</td>\n",
       "      <td>-0.082569</td>\n",
       "      <td>4.30760</td>\n",
       "      <td>1.066600</td>\n",
       "      <td>4.28950</td>\n",
       "      <td>1.248200</td>\n",
       "      <td>0.35031</td>\n",
       "      <td>2</td>\n",
       "    </tr>\n",
       "    <tr>\n",
       "      <th>47280</th>\n",
       "      <td>4.37550</td>\n",
       "      <td>0.287050</td>\n",
       "      <td>-0.088491</td>\n",
       "      <td>-0.086775</td>\n",
       "      <td>0.458480</td>\n",
       "      <td>3.260700</td>\n",
       "      <td>-0.129590</td>\n",
       "      <td>-0.054280</td>\n",
       "      <td>-0.27620</td>\n",
       "      <td>0.289830</td>\n",
       "      <td>0.50937</td>\n",
       "      <td>-0.155450</td>\n",
       "      <td>4.02040</td>\n",
       "      <td>10</td>\n",
       "    </tr>\n",
       "    <tr>\n",
       "      <th>17804</th>\n",
       "      <td>-0.20823</td>\n",
       "      <td>-0.103150</td>\n",
       "      <td>-0.153510</td>\n",
       "      <td>0.509170</td>\n",
       "      <td>0.465500</td>\n",
       "      <td>-0.000060</td>\n",
       "      <td>1.605400</td>\n",
       "      <td>0.190660</td>\n",
       "      <td>2.03560</td>\n",
       "      <td>-0.147480</td>\n",
       "      <td>2.41240</td>\n",
       "      <td>0.737840</td>\n",
       "      <td>3.04220</td>\n",
       "      <td>4</td>\n",
       "    </tr>\n",
       "    <tr>\n",
       "      <th>74743</th>\n",
       "      <td>3.77460</td>\n",
       "      <td>3.173900</td>\n",
       "      <td>-0.239940</td>\n",
       "      <td>0.257330</td>\n",
       "      <td>-0.172100</td>\n",
       "      <td>4.373700</td>\n",
       "      <td>1.692500</td>\n",
       "      <td>0.319660</td>\n",
       "      <td>-0.15248</td>\n",
       "      <td>-0.141140</td>\n",
       "      <td>0.47485</td>\n",
       "      <td>-0.059107</td>\n",
       "      <td>4.27750</td>\n",
       "      <td>15</td>\n",
       "    </tr>\n",
       "  </tbody>\n",
       "</table>\n",
       "</div>"
      ],
      "text/plain": [
       "          CD45    CD45RA      CD19     CD11b       CD4       CD8      CD34  \\\n",
       "53353 -0.69492  0.881530 -0.114340 -0.087083  1.607600  0.408030 -0.196550   \n",
       "38224  4.44520  0.476760 -0.077736 -0.016581  3.580100 -0.219880 -0.011004   \n",
       "33373  4.46960 -0.561500 -0.168880  0.347350  3.076000  1.037300 -0.118600   \n",
       "11350 -0.31212 -0.095535 -0.161090 -0.105790 -0.010378 -0.025211 -0.040666   \n",
       "51254  5.25150  1.007700  0.509640  1.050100 -0.056795  5.107800  0.601790   \n",
       "5565   4.72110  1.499900 -0.242840  3.160400  2.883800 -0.343640  0.938980   \n",
       "2398   3.87100 -0.032058 -0.108210  2.530300  0.743860 -0.021683  0.960550   \n",
       "47280  4.37550  0.287050 -0.088491 -0.086775  0.458480  3.260700 -0.129590   \n",
       "17804 -0.20823 -0.103150 -0.153510  0.509170  0.465500 -0.000060  1.605400   \n",
       "74743  3.77460  3.173900 -0.239940  0.257330 -0.172100  4.373700  1.692500   \n",
       "\n",
       "           CD20     CD33     CD123     CD38      CD90      CD3  category  \n",
       "53353 -0.088004  0.31978 -0.127960 -0.11775 -0.006062 -1.25900        11  \n",
       "38224 -0.059784  0.43719 -0.426980  2.31540  0.132890  4.26200         9  \n",
       "33373 -0.014868 -0.22350  0.220260  1.83080  1.171200  4.41170         9  \n",
       "11350 -0.073326  1.10760 -0.097798  1.70450  1.056600  2.82610         4  \n",
       "51254  1.621400  0.22450 -0.224580  2.41230  1.014500  5.52270        10  \n",
       "5565  -0.093330  4.67880  2.689300  4.21780  0.585290  0.59754         2  \n",
       "2398  -0.082569  4.30760  1.066600  4.28950  1.248200  0.35031         2  \n",
       "47280 -0.054280 -0.27620  0.289830  0.50937 -0.155450  4.02040        10  \n",
       "17804  0.190660  2.03560 -0.147480  2.41240  0.737840  3.04220         4  \n",
       "74743  0.319660 -0.15248 -0.141140  0.47485 -0.059107  4.27750        15  "
      ]
     },
     "execution_count": 6,
     "metadata": {},
     "output_type": "execute_result"
    }
   ],
   "source": [
    "data_df.sample(n=10)"
   ]
  },
  {
   "cell_type": "code",
   "execution_count": 7,
   "metadata": {},
   "outputs": [
    {
     "name": "stdout",
     "output_type": "stream",
     "text": [
      "def one_hot_encoding(classes):\n",
      "    return to_categorical(classes)[:, 1:]  # remove category 0\n",
      "\n",
      "def one_hot_decoding(labels):\n",
      "    return labels.argmax(axis=1) + 1\n",
      "\n"
     ]
    }
   ],
   "source": [
    "print(inspect.getsource(one_hot_encoding)) # from keras, but taking care of 1 indexed classes\n",
    "print(inspect.getsource(one_hot_decoding))"
   ]
  },
  {
   "cell_type": "code",
   "execution_count": 8,
   "metadata": {},
   "outputs": [
    {
     "data": {
      "text/plain": [
       "(81075, 13)"
      ]
     },
     "execution_count": 8,
     "metadata": {},
     "output_type": "execute_result"
    }
   ],
   "source": [
    "classes = data_df['category'].values\n",
    "labels = one_hot_encoding(classes)\n",
    "\n",
    "#scale the data from 0 to 1\n",
    "min_max_scaler = MinMaxScaler(feature_range=(0, 1), copy=True)\n",
    "data = min_max_scaler.fit_transform(data_df.drop('category', axis=1).values)\n",
    "data.shape"
   ]
  },
  {
   "cell_type": "code",
   "execution_count": 9,
   "metadata": {},
   "outputs": [
    {
     "data": {
      "text/plain": [
       "array([ 1,  1,  1, ..., 20, 20, 20])"
      ]
     },
     "execution_count": 9,
     "metadata": {},
     "output_type": "execute_result"
    }
   ],
   "source": [
    "one_hot_decoding(labels)"
   ]
  },
  {
   "cell_type": "code",
   "execution_count": 10,
   "metadata": {},
   "outputs": [],
   "source": [
    "data_train, data_test, labels_train, labels_test = train_test_split(\n",
    "    data, labels, test_size=0.33, random_state=42, stratify=data_df.category)"
   ]
  },
  {
   "cell_type": "code",
   "execution_count": 11,
   "metadata": {},
   "outputs": [
    {
     "data": {
      "text/plain": [
       "array([[1., 0., 0., ..., 0., 0., 0.],\n",
       "       [1., 0., 0., ..., 0., 0., 0.],\n",
       "       [1., 0., 0., ..., 0., 0., 0.],\n",
       "       ...,\n",
       "       [0., 0., 0., ..., 0., 0., 1.],\n",
       "       [0., 0., 0., ..., 0., 0., 1.],\n",
       "       [0., 0., 0., ..., 0., 0., 1.]], dtype=float32)"
      ]
     },
     "execution_count": 11,
     "metadata": {},
     "output_type": "execute_result"
    }
   ],
   "source": [
    "labels"
   ]
  },
  {
   "cell_type": "code",
   "execution_count": 12,
   "metadata": {},
   "outputs": [],
   "source": [
    "batchsize = 32"
   ]
  },
  {
   "cell_type": "code",
   "execution_count": 13,
   "metadata": {},
   "outputs": [],
   "source": [
    "dataset = tf.data.Dataset.from_tensor_slices((data_train, labels_train))\n",
    "dataset = dataset.shuffle(2 * batchsize).batch(batchsize)\n",
    "dataset = dataset.repeat()\n",
    "\n",
    "testset = tf.data.Dataset.from_tensor_slices((data_test, labels_test))\n",
    "testset = testset.batch(batchsize)"
   ]
  },
  {
   "cell_type": "markdown",
   "metadata": {},
   "source": [
    "## I don't know how a simpler network would look like"
   ]
  },
  {
   "cell_type": "code",
   "execution_count": 14,
   "metadata": {
    "scrolled": false
   },
   "outputs": [
    {
     "name": "stderr",
     "output_type": "stream",
     "text": [
      "WARNING: Logging before flag parsing goes to stderr.\n",
      "W1103 19:54:27.627181 139803615647552 deprecation.py:506] From /home/phineas/anaconda3/envs/depiction-env/lib/python3.6/site-packages/tensorflow/python/ops/init_ops.py:1251: calling VarianceScaling.__init__ (from tensorflow.python.ops.init_ops) with dtype is deprecated and will be removed in a future version.\n",
      "Instructions for updating:\n",
      "Call initializer instance with the dtype argument instead of passing it to the constructor\n"
     ]
    }
   ],
   "source": [
    "model = tf.keras.Sequential()\n",
    "# Add a softmax layer with output units per celltype:\n",
    "model.add(layers.Dense(\n",
    "    len(meta_series), activation='softmax',\n",
    "    batch_input_shape=tf.data.get_output_shapes(dataset)[0]\n",
    "))"
   ]
  },
  {
   "cell_type": "code",
   "execution_count": 15,
   "metadata": {},
   "outputs": [
    {
     "name": "stdout",
     "output_type": "stream",
     "text": [
      "Model: \"sequential\"\n",
      "_________________________________________________________________\n",
      "Layer (type)                 Output Shape              Param #   \n",
      "=================================================================\n",
      "dense (Dense)                (None, 20)                280       \n",
      "=================================================================\n",
      "Total params: 280\n",
      "Trainable params: 280\n",
      "Non-trainable params: 0\n",
      "_________________________________________________________________\n"
     ]
    }
   ],
   "source": [
    "model.summary()"
   ]
  },
  {
   "cell_type": "code",
   "execution_count": 16,
   "metadata": {},
   "outputs": [],
   "source": [
    "model.compile(optimizer=tf.keras.optimizers.Adam(0.001),\n",
    "              loss='categorical_crossentropy',\n",
    "              metrics=[tf.keras.metrics.categorical_accuracy])"
   ]
  },
  {
   "cell_type": "code",
   "execution_count": 17,
   "metadata": {
    "scrolled": true
   },
   "outputs": [
    {
     "name": "stdout",
     "output_type": "stream",
     "text": [
      "Epoch 1/20\n",
      "1698/1698 [==============================] - 2s 1ms/step - loss: 2.1077 - categorical_accuracy: 0.4552 - val_loss: 1.6879 - val_categorical_accuracy: 0.6672\n",
      "Epoch 2/20\n",
      "1698/1698 [==============================] - 2s 938us/step - loss: 1.4345 - categorical_accuracy: 0.6918 - val_loss: 1.2277 - val_categorical_accuracy: 0.7554\n",
      "Epoch 3/20\n",
      "1698/1698 [==============================] - 2s 925us/step - loss: 1.0864 - categorical_accuracy: 0.7777 - val_loss: 0.9677 - val_categorical_accuracy: 0.8128\n",
      "Epoch 4/20\n",
      "1698/1698 [==============================] - 2s 912us/step - loss: 0.8806 - categorical_accuracy: 0.8177 - val_loss: 0.8053 - val_categorical_accuracy: 0.8335\n",
      "Epoch 5/20\n",
      "1698/1698 [==============================] - 2s 936us/step - loss: 0.7464 - categorical_accuracy: 0.8369 - val_loss: 0.6948 - val_categorical_accuracy: 0.8455\n",
      "Epoch 6/20\n",
      "1698/1698 [==============================] - 2s 952us/step - loss: 0.6522 - categorical_accuracy: 0.8503 - val_loss: 0.6145 - val_categorical_accuracy: 0.8578\n",
      "Epoch 7/20\n",
      "1698/1698 [==============================] - 2s 1ms/step - loss: 0.5825 - categorical_accuracy: 0.8625 - val_loss: 0.5540 - val_categorical_accuracy: 0.8702\n",
      "Epoch 8/20\n",
      "1698/1698 [==============================] - 2s 1ms/step - loss: 0.5291 - categorical_accuracy: 0.8741 - val_loss: 0.5071 - val_categorical_accuracy: 0.8810\n",
      "Epoch 9/20\n",
      "1698/1698 [==============================] - 2s 1ms/step - loss: 0.4873 - categorical_accuracy: 0.8848 - val_loss: 0.4695 - val_categorical_accuracy: 0.8899\n",
      "Epoch 10/20\n",
      "1698/1698 [==============================] - 2s 977us/step - loss: 0.4531 - categorical_accuracy: 0.8934 - val_loss: 0.4386 - val_categorical_accuracy: 0.8976\n",
      "Epoch 11/20\n",
      "1698/1698 [==============================] - 2s 1ms/step - loss: 0.4249 - categorical_accuracy: 0.9001 - val_loss: 0.4130 - val_categorical_accuracy: 0.9026\n",
      "Epoch 12/20\n",
      "1698/1698 [==============================] - 2s 919us/step - loss: 0.4013 - categorical_accuracy: 0.9054 - val_loss: 0.3911 - val_categorical_accuracy: 0.9070\n",
      "Epoch 13/20\n",
      "1698/1698 [==============================] - 2s 1ms/step - loss: 0.3811 - categorical_accuracy: 0.9100 - val_loss: 0.3724 - val_categorical_accuracy: 0.9100\n",
      "Epoch 14/20\n",
      "1698/1698 [==============================] - 2s 1ms/step - loss: 0.3636 - categorical_accuracy: 0.9138 - val_loss: 0.3561 - val_categorical_accuracy: 0.9126\n",
      "Epoch 15/20\n",
      "1698/1698 [==============================] - 2s 1ms/step - loss: 0.3483 - categorical_accuracy: 0.9165 - val_loss: 0.3417 - val_categorical_accuracy: 0.9155\n",
      "Epoch 16/20\n",
      "1698/1698 [==============================] - 2s 1ms/step - loss: 0.3349 - categorical_accuracy: 0.9192 - val_loss: 0.3291 - val_categorical_accuracy: 0.9189\n",
      "Epoch 17/20\n",
      "1698/1698 [==============================] - 2s 1ms/step - loss: 0.3229 - categorical_accuracy: 0.9214 - val_loss: 0.3178 - val_categorical_accuracy: 0.9213\n",
      "Epoch 18/20\n",
      "1698/1698 [==============================] - 2s 1ms/step - loss: 0.3122 - categorical_accuracy: 0.9240 - val_loss: 0.3076 - val_categorical_accuracy: 0.9243\n",
      "Epoch 19/20\n",
      "1698/1698 [==============================] - 2s 1ms/step - loss: 0.3024 - categorical_accuracy: 0.9262 - val_loss: 0.2983 - val_categorical_accuracy: 0.9261\n",
      "Epoch 20/20\n",
      "1698/1698 [==============================] - 2s 992us/step - loss: 0.2936 - categorical_accuracy: 0.9286 - val_loss: 0.2899 - val_categorical_accuracy: 0.9285\n"
     ]
    },
    {
     "data": {
      "text/plain": [
       "<tensorflow.python.keras.callbacks.History at 0x7f262283e978>"
      ]
     },
     "execution_count": 17,
     "metadata": {},
     "output_type": "execute_result"
    }
   ],
   "source": [
    "# evaluation on testset on every epoch\n",
    "# log_dir=\"logs/fit/\" + datetime.datetime.now().strftime(\"%Y%m%d-%H%M%S\")\n",
    "# tensorboard_callback = tf.keras.callbacks.TensorBoard(log_dir=log_dir, histogram_freq=1)\n",
    "model.fit(\n",
    "    dataset,\n",
    "    epochs=20, steps_per_epoch=np.ceil(data_train.shape[0]/batchsize),\n",
    "    validation_data=testset, #  callbacks=[tensorboard_callback]\n",
    ")"
   ]
  },
  {
   "cell_type": "markdown",
   "metadata": {},
   "source": [
    "## Is such a simple model interpretable?"
   ]
  },
  {
   "cell_type": "code",
   "execution_count": 18,
   "metadata": {},
   "outputs": [],
   "source": [
    "# Save entire model to a HDF5 file\n",
    "model.save('./celltype_model.h5')"
   ]
  },
  {
   "cell_type": "code",
   "execution_count": 19,
   "metadata": {},
   "outputs": [],
   "source": [
    "# tensorboard --logdir logs/fit"
   ]
  },
  {
   "cell_type": "code",
   "execution_count": 20,
   "metadata": {},
   "outputs": [],
   "source": [
    "# To recreate the exact same model, including weights and optimizer.\n",
    "# model = tf.keras.models.load_model('../data/models/celltype_dnn_model.h5')"
   ]
  },
  {
   "cell_type": "markdown",
   "metadata": {},
   "source": [
    "# What is the effect of increasing model complexity? \n",
    "Play around by adding some layers, train and save the model under some name to use with the other notebook."
   ]
  },
  {
   "cell_type": "markdown",
   "metadata": {},
   "source": [
    "![title](https://i.kym-cdn.com/photos/images/newsfeed/000/531/557/a88.jpg)"
   ]
  },
  {
   "cell_type": "code",
   "execution_count": 21,
   "metadata": {},
   "outputs": [],
   "source": [
    "model = tf.keras.Sequential()\n",
    "# Adds a densely-connected layers with 64 units to the model:\n",
    "model.add(layers.Dense(64, activation='relu', batch_input_shape=tf.data.get_output_shapes(dataset)[0])) # \n",
    "# ...\n",
    "# do whatever you want\n",
    "# model.add(layers.Dense(64, activation='relu'))\n",
    "# model.add(layers.Dropout(0.5))\n",
    "# ...\n",
    "# Add a softmax layer with output units per celltype:\n",
    "model.add(layers.Dense(len(meta_series), activation='softmax'))"
   ]
  },
  {
   "cell_type": "code",
   "execution_count": null,
   "metadata": {},
   "outputs": [],
   "source": []
  }
 ],
 "metadata": {
  "kernelspec": {
   "display_name": "Python 3",
   "language": "python",
   "name": "python3"
  },
  "language_info": {
   "codemirror_mode": {
    "name": "ipython",
    "version": 3
   },
   "file_extension": ".py",
   "mimetype": "text/x-python",
   "name": "python",
   "nbconvert_exporter": "python",
   "pygments_lexer": "ipython3",
   "version": "3.6.5"
  }
 },
 "nbformat": 4,
 "nbformat_minor": 2
}

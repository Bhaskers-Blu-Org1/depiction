{
 "cells": [
  {
   "cell_type": "code",
   "execution_count": null,
   "metadata": {},
   "outputs": [],
   "source": [
    "import pandas as pd\n",
    "import numpy as np\n",
    "from sklearn.model_selection import train_test_split\n",
    "from depiction.models.celltype import CellTyper\n",
    "from depiction.interpreters.uw_model import UWModel\n",
    "from depiction.core import Task, DataType"
   ]
  },
  {
   "cell_type": "code",
   "execution_count": null,
   "metadata": {},
   "outputs": [],
   "source": [
    "# Import trained classifier\n",
    "classifier = CellTyper()"
   ]
  },
  {
   "cell_type": "code",
   "execution_count": null,
   "metadata": {},
   "outputs": [],
   "source": [
    "# Load data \n",
    "datapath = '../data/single-cell/data.csv'\n",
    "data_df = pd.read_csv(datapath)\n",
    "\n",
    "train_df, test_df = train_test_split(data_df, test_size=0.1)\n",
    "train_df, valid_df = train_test_split(train_df, test_size=0.2)\n",
    "\n",
    "train_df.head()"
   ]
  },
  {
   "cell_type": "code",
   "execution_count": null,
   "metadata": {},
   "outputs": [],
   "source": [
    "task = Task.CLASSIFICATION\n",
    "data_type = DataType.TABULAR\n",
    "id_sample_to_explain = 3"
   ]
  },
  {
   "cell_type": "code",
   "execution_count": null,
   "metadata": {},
   "outputs": [],
   "source": [
    "# Create a LIME tabular interpreter\n",
    "interpreter = \"lime\"\n",
    "explanation_configs = {\n",
    "    \"top_labels\": 1\n",
    "}\n",
    "interpreter_params = {\n",
    "    \"training_data\": train_df.values[:, :-1],\n",
    "    \"training_labels\": train_df.values[:, -1],\n",
    "    \"feature_names\": train_df.columns[:-1],\n",
    "    \"verbose\": True,\n",
    "    \"class_names\": [classifier.celltype_names[i+1] for i in range(len(classifier.celltype_names))],\n",
    "    \"discretize_continuous\": False,\n",
    "    \"sample_around_instance\": True\n",
    "}\n",
    "\n",
    "explainer = UWModel(interpreter, task, data_type, explanation_configs, **interpreter_params)\n",
    "\n",
    "# explain the chosen instance wrt the chosen labels\n",
    "explainer.interpret(classifier.predict, test_df.values[id_sample_to_explain, :-1])"
   ]
  },
  {
   "cell_type": "code",
   "execution_count": null,
   "metadata": {},
   "outputs": [],
   "source": [
    "# Create a anchor tabular interpreter\n",
    "interpreter = \"anchor\"\n",
    "explanation_configs = {}\n",
    "interpreter_params = {\n",
    "    \"feature_names\": train_df.columns[:-1],\n",
    "    \"class_names\": [classifier.celltype_names[i+1] for i in range(len(classifier.celltype_names))],\n",
    "    \"categorical_names\": {}\n",
    "}\n",
    "\n",
    "explainer = UWModel(interpreter, task, data_type, explanation_configs, **interpreter_params)\n",
    "X_train = train_df.values[:, :-1]\n",
    "y_train = train_df.values[:, -1].astype(np.int)\n",
    "X_valid = valid_df.values[:, :-1]\n",
    "y_valid = valid_df.values[:, -1].astype(np.int)\n",
    "explainer.explainer.fit(\n",
    "    X_train, y_train, X_valid, y_valid\n",
    ")\n",
    "\n",
    "# explain the chosen instance wrt the chosen labels\n",
    "def new_predict(sample, **kwargs):\n",
    "    return np.argmax(classifier.predict(sample,**kwargs), axis=1)\n",
    "explainer.interpret(new_predict, test_df.values[id_sample_to_explain, :-1])"
   ]
  }
 ],
 "metadata": {
  "kernelspec": {
   "display_name": "Python 3",
   "language": "python",
   "name": "python3"
  },
  "language_info": {
   "codemirror_mode": {
    "name": "ipython",
    "version": 3
   },
   "file_extension": ".py",
   "mimetype": "text/x-python",
   "name": "python",
   "nbconvert_exporter": "python",
   "pygments_lexer": "ipython3",
   "version": "3.6.7"
  }
 },
 "nbformat": 4,
 "nbformat_minor": 2
}

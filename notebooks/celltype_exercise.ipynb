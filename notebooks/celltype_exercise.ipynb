{
 "cells": [
  {
   "cell_type": "markdown",
   "metadata": {},
   "source": [
    "# Training of a super simple model for celltype classification and explanation of its predictions"
   ]
  },
  {
   "cell_type": "markdown",
   "metadata": {},
   "source": [
    "# Part I - Training"
   ]
  },
  {
   "cell_type": "code",
   "execution_count": 1,
   "metadata": {},
   "outputs": [
    {
     "name": "stdout",
     "output_type": "stream",
     "text": [
      "/home/phineas/anaconda3/envs/depiction-env/bin/python\n",
      "Python 3.6.5 :: Anaconda, Inc.\n",
      "1.14.0\n",
      "2.2.4-tf\n",
      "/home/phineas/Documents/repos/dl-interpretability-compbio/notebooks\n"
     ]
    }
   ],
   "source": [
    "import datetime\n",
    "import os\n",
    "\n",
    "import ipywidgets as widgets\n",
    "import numpy as np\n",
    "import pandas as pd\n",
    "import seaborn as sns\n",
    "import tensorflow as tf\n",
    "from ipywidgets import interact, interact_manual\n",
    "from sklearn.model_selection import train_test_split\n",
    "from sklearn.preprocessing import MinMaxScaler\n",
    "from tensorflow.keras import layers\n",
    "from tensorflow.keras.utils import to_categorical\n",
    "\n",
    "!which python\n",
    "!python --version\n",
    "print(tf.VERSION)\n",
    "print(tf.keras.__version__)\n",
    "!pwd #  start jupyter under notebooks/ for correct relative paths\n"
   ]
  },
  {
   "cell_type": "markdown",
   "metadata": {},
   "source": [
    "## a look at the data\n",
    "labels are categories 1-20, here's the associated celltype:"
   ]
  },
  {
   "cell_type": "code",
   "execution_count": 2,
   "metadata": {},
   "outputs": [
    {
     "data": {
      "text/html": [
       "<div>\n",
       "<style scoped>\n",
       "    .dataframe tbody tr th:only-of-type {\n",
       "        vertical-align: middle;\n",
       "    }\n",
       "\n",
       "    .dataframe tbody tr th {\n",
       "        vertical-align: top;\n",
       "    }\n",
       "\n",
       "    .dataframe thead th {\n",
       "        text-align: right;\n",
       "    }\n",
       "</style>\n",
       "<table border=\"1\" class=\"dataframe\">\n",
       "  <thead>\n",
       "    <tr style=\"text-align: right;\">\n",
       "      <th></th>\n",
       "      <th>cell type name</th>\n",
       "    </tr>\n",
       "  </thead>\n",
       "  <tbody>\n",
       "    <tr>\n",
       "      <th>1</th>\n",
       "      <td>CD11b- Monocyte</td>\n",
       "    </tr>\n",
       "    <tr>\n",
       "      <th>2</th>\n",
       "      <td>CD11bhi Monocyte</td>\n",
       "    </tr>\n",
       "    <tr>\n",
       "      <th>3</th>\n",
       "      <td>CD11bmid Monocyte</td>\n",
       "    </tr>\n",
       "    <tr>\n",
       "      <th>4</th>\n",
       "      <td>Erythroblast</td>\n",
       "    </tr>\n",
       "    <tr>\n",
       "      <th>5</th>\n",
       "      <td>HSC</td>\n",
       "    </tr>\n",
       "    <tr>\n",
       "      <th>6</th>\n",
       "      <td>Immature B</td>\n",
       "    </tr>\n",
       "    <tr>\n",
       "      <th>7</th>\n",
       "      <td>Mature CD38lo B</td>\n",
       "    </tr>\n",
       "    <tr>\n",
       "      <th>8</th>\n",
       "      <td>Mature CD38mid B</td>\n",
       "    </tr>\n",
       "    <tr>\n",
       "      <th>9</th>\n",
       "      <td>Mature CD4+ T</td>\n",
       "    </tr>\n",
       "    <tr>\n",
       "      <th>10</th>\n",
       "      <td>Mature CD8+ T</td>\n",
       "    </tr>\n",
       "    <tr>\n",
       "      <th>11</th>\n",
       "      <td>Megakaryocyte</td>\n",
       "    </tr>\n",
       "    <tr>\n",
       "      <th>12</th>\n",
       "      <td>Myelocyte</td>\n",
       "    </tr>\n",
       "    <tr>\n",
       "      <th>13</th>\n",
       "      <td>NK</td>\n",
       "    </tr>\n",
       "    <tr>\n",
       "      <th>14</th>\n",
       "      <td>Naive CD4+ T</td>\n",
       "    </tr>\n",
       "    <tr>\n",
       "      <th>15</th>\n",
       "      <td>Naive CD8+ T</td>\n",
       "    </tr>\n",
       "    <tr>\n",
       "      <th>16</th>\n",
       "      <td>Plasma cell</td>\n",
       "    </tr>\n",
       "    <tr>\n",
       "      <th>17</th>\n",
       "      <td>Plasmacytoid DC</td>\n",
       "    </tr>\n",
       "    <tr>\n",
       "      <th>18</th>\n",
       "      <td>Platelet</td>\n",
       "    </tr>\n",
       "    <tr>\n",
       "      <th>19</th>\n",
       "      <td>Pre-B II</td>\n",
       "    </tr>\n",
       "    <tr>\n",
       "      <th>20</th>\n",
       "      <td>Pre-B I</td>\n",
       "    </tr>\n",
       "  </tbody>\n",
       "</table>\n",
       "</div>"
      ],
      "text/plain": [
       "       cell type name\n",
       "1     CD11b- Monocyte\n",
       "2    CD11bhi Monocyte\n",
       "3   CD11bmid Monocyte\n",
       "4        Erythroblast\n",
       "5                 HSC\n",
       "6          Immature B\n",
       "7     Mature CD38lo B\n",
       "8    Mature CD38mid B\n",
       "9       Mature CD4+ T\n",
       "10      Mature CD8+ T\n",
       "11      Megakaryocyte\n",
       "12          Myelocyte\n",
       "13                 NK\n",
       "14       Naive CD4+ T\n",
       "15       Naive CD8+ T\n",
       "16        Plasma cell\n",
       "17    Plasmacytoid DC\n",
       "18           Platelet\n",
       "19           Pre-B II\n",
       "20            Pre-B I"
      ]
     },
     "execution_count": 2,
     "metadata": {},
     "output_type": "execute_result"
    }
   ],
   "source": [
    "meta_series = pd.read_csv('../data/single-cell/metadata.csv', index_col=0, dtype=str).rename_axis(None)\n",
    "meta_series"
   ]
  },
  {
   "cell_type": "markdown",
   "metadata": {},
   "source": [
    "There are 13 unbalanced classes, and over 80k samples"
   ]
  },
  {
   "cell_type": "code",
   "execution_count": 3,
   "metadata": {},
   "outputs": [
    {
     "data": {
      "text/plain": [
       "<matplotlib.axes._subplots.AxesSubplot at 0x7fac92a17eb8>"
      ]
     },
     "execution_count": 3,
     "metadata": {},
     "output_type": "execute_result"
    },
    {
     "data": {
      "image/png": "[encoded data removed]",
      "text/plain": [
       "<Figure size 432x288 with 1 Axes>"
      ]
     },
     "metadata": {
      "needs_background": "light"
     },
     "output_type": "display_data"
    }
   ],
   "source": [
    "data_df = pd.read_csv('../data/single-cell/data.csv')\n",
    "sns.countplot(data_df.category)"
   ]
  },
  {
   "cell_type": "code",
   "execution_count": 4,
   "metadata": {},
   "outputs": [
    {
     "data": {
      "text/html": [
       "<div>\n",
       "<style scoped>\n",
       "    .dataframe tbody tr th:only-of-type {\n",
       "        vertical-align: middle;\n",
       "    }\n",
       "\n",
       "    .dataframe tbody tr th {\n",
       "        vertical-align: top;\n",
       "    }\n",
       "\n",
       "    .dataframe thead th {\n",
       "        text-align: right;\n",
       "    }\n",
       "</style>\n",
       "<table border=\"1\" class=\"dataframe\">\n",
       "  <thead>\n",
       "    <tr style=\"text-align: right;\">\n",
       "      <th></th>\n",
       "      <th>CD45</th>\n",
       "      <th>CD45RA</th>\n",
       "      <th>CD19</th>\n",
       "      <th>CD11b</th>\n",
       "      <th>CD4</th>\n",
       "      <th>CD8</th>\n",
       "      <th>CD34</th>\n",
       "      <th>CD20</th>\n",
       "      <th>CD33</th>\n",
       "      <th>CD123</th>\n",
       "      <th>CD38</th>\n",
       "      <th>CD90</th>\n",
       "      <th>CD3</th>\n",
       "      <th>category</th>\n",
       "    </tr>\n",
       "  </thead>\n",
       "  <tbody>\n",
       "    <tr>\n",
       "      <th>16758</th>\n",
       "      <td>-0.029914</td>\n",
       "      <td>0.312800</td>\n",
       "      <td>1.182900</td>\n",
       "      <td>1.99460</td>\n",
       "      <td>-0.138570</td>\n",
       "      <td>0.889660</td>\n",
       "      <td>1.719600</td>\n",
       "      <td>-0.006738</td>\n",
       "      <td>-0.555440</td>\n",
       "      <td>-0.106600</td>\n",
       "      <td>2.3930</td>\n",
       "      <td>1.27540</td>\n",
       "      <td>3.28430</td>\n",
       "      <td>4</td>\n",
       "    </tr>\n",
       "    <tr>\n",
       "      <th>64552</th>\n",
       "      <td>4.352000</td>\n",
       "      <td>3.413900</td>\n",
       "      <td>-0.067296</td>\n",
       "      <td>0.59838</td>\n",
       "      <td>4.276000</td>\n",
       "      <td>1.139600</td>\n",
       "      <td>-0.127310</td>\n",
       "      <td>0.062857</td>\n",
       "      <td>-0.425700</td>\n",
       "      <td>-0.165250</td>\n",
       "      <td>3.5315</td>\n",
       "      <td>-0.01568</td>\n",
       "      <td>4.97050</td>\n",
       "      <td>14</td>\n",
       "    </tr>\n",
       "    <tr>\n",
       "      <th>30903</th>\n",
       "      <td>4.634700</td>\n",
       "      <td>1.042700</td>\n",
       "      <td>-0.258190</td>\n",
       "      <td>0.83227</td>\n",
       "      <td>3.838300</td>\n",
       "      <td>-0.164320</td>\n",
       "      <td>0.385920</td>\n",
       "      <td>0.886000</td>\n",
       "      <td>-0.016354</td>\n",
       "      <td>0.946350</td>\n",
       "      <td>1.0939</td>\n",
       "      <td>1.28870</td>\n",
       "      <td>2.77450</td>\n",
       "      <td>9</td>\n",
       "    </tr>\n",
       "    <tr>\n",
       "      <th>43377</th>\n",
       "      <td>4.851300</td>\n",
       "      <td>1.134600</td>\n",
       "      <td>-0.376050</td>\n",
       "      <td>-0.18539</td>\n",
       "      <td>4.299700</td>\n",
       "      <td>0.862390</td>\n",
       "      <td>-0.122620</td>\n",
       "      <td>-0.072810</td>\n",
       "      <td>2.524000</td>\n",
       "      <td>-0.006666</td>\n",
       "      <td>2.4029</td>\n",
       "      <td>0.30999</td>\n",
       "      <td>5.46580</td>\n",
       "      <td>9</td>\n",
       "    </tr>\n",
       "    <tr>\n",
       "      <th>5822</th>\n",
       "      <td>4.410600</td>\n",
       "      <td>0.465930</td>\n",
       "      <td>0.983270</td>\n",
       "      <td>2.75850</td>\n",
       "      <td>2.270700</td>\n",
       "      <td>0.552910</td>\n",
       "      <td>-0.107310</td>\n",
       "      <td>-0.138900</td>\n",
       "      <td>5.073700</td>\n",
       "      <td>1.992700</td>\n",
       "      <td>4.0985</td>\n",
       "      <td>1.01490</td>\n",
       "      <td>-0.15039</td>\n",
       "      <td>2</td>\n",
       "    </tr>\n",
       "    <tr>\n",
       "      <th>12697</th>\n",
       "      <td>-0.032976</td>\n",
       "      <td>-0.712890</td>\n",
       "      <td>-0.005581</td>\n",
       "      <td>0.45489</td>\n",
       "      <td>1.299500</td>\n",
       "      <td>-0.023637</td>\n",
       "      <td>-0.063125</td>\n",
       "      <td>-0.018057</td>\n",
       "      <td>0.044404</td>\n",
       "      <td>-0.046674</td>\n",
       "      <td>1.9319</td>\n",
       "      <td>1.20520</td>\n",
       "      <td>1.42790</td>\n",
       "      <td>4</td>\n",
       "    </tr>\n",
       "    <tr>\n",
       "      <th>4817</th>\n",
       "      <td>4.008500</td>\n",
       "      <td>-0.219170</td>\n",
       "      <td>-0.004018</td>\n",
       "      <td>3.33970</td>\n",
       "      <td>0.239660</td>\n",
       "      <td>-0.089035</td>\n",
       "      <td>0.267410</td>\n",
       "      <td>-0.051956</td>\n",
       "      <td>4.601500</td>\n",
       "      <td>1.967100</td>\n",
       "      <td>3.0798</td>\n",
       "      <td>1.47000</td>\n",
       "      <td>1.41000</td>\n",
       "      <td>2</td>\n",
       "    </tr>\n",
       "    <tr>\n",
       "      <th>56269</th>\n",
       "      <td>1.792400</td>\n",
       "      <td>0.644490</td>\n",
       "      <td>-0.125710</td>\n",
       "      <td>-0.33546</td>\n",
       "      <td>2.519900</td>\n",
       "      <td>-0.094398</td>\n",
       "      <td>-0.058901</td>\n",
       "      <td>-0.017540</td>\n",
       "      <td>1.769000</td>\n",
       "      <td>-0.341280</td>\n",
       "      <td>2.8757</td>\n",
       "      <td>0.53181</td>\n",
       "      <td>-0.46422</td>\n",
       "      <td>12</td>\n",
       "    </tr>\n",
       "    <tr>\n",
       "      <th>19532</th>\n",
       "      <td>-0.287960</td>\n",
       "      <td>-0.026452</td>\n",
       "      <td>-0.074754</td>\n",
       "      <td>1.20000</td>\n",
       "      <td>-0.004963</td>\n",
       "      <td>-0.001120</td>\n",
       "      <td>-0.109780</td>\n",
       "      <td>-0.125190</td>\n",
       "      <td>0.550260</td>\n",
       "      <td>0.622520</td>\n",
       "      <td>2.6595</td>\n",
       "      <td>0.51005</td>\n",
       "      <td>2.05030</td>\n",
       "      <td>4</td>\n",
       "    </tr>\n",
       "    <tr>\n",
       "      <th>35107</th>\n",
       "      <td>4.879400</td>\n",
       "      <td>0.724190</td>\n",
       "      <td>1.010000</td>\n",
       "      <td>0.26920</td>\n",
       "      <td>4.778700</td>\n",
       "      <td>2.262500</td>\n",
       "      <td>0.507120</td>\n",
       "      <td>-0.112840</td>\n",
       "      <td>0.742910</td>\n",
       "      <td>0.295800</td>\n",
       "      <td>2.3651</td>\n",
       "      <td>0.81108</td>\n",
       "      <td>4.96440</td>\n",
       "      <td>9</td>\n",
       "    </tr>\n",
       "  </tbody>\n",
       "</table>\n",
       "</div>"
      ],
      "text/plain": [
       "           CD45    CD45RA      CD19    CD11b       CD4       CD8      CD34  \\\n",
       "16758 -0.029914  0.312800  1.182900  1.99460 -0.138570  0.889660  1.719600   \n",
       "64552  4.352000  3.413900 -0.067296  0.59838  4.276000  1.139600 -0.127310   \n",
       "30903  4.634700  1.042700 -0.258190  0.83227  3.838300 -0.164320  0.385920   \n",
       "43377  4.851300  1.134600 -0.376050 -0.18539  4.299700  0.862390 -0.122620   \n",
       "5822   4.410600  0.465930  0.983270  2.75850  2.270700  0.552910 -0.107310   \n",
       "12697 -0.032976 -0.712890 -0.005581  0.45489  1.299500 -0.023637 -0.063125   \n",
       "4817   4.008500 -0.219170 -0.004018  3.33970  0.239660 -0.089035  0.267410   \n",
       "56269  1.792400  0.644490 -0.125710 -0.33546  2.519900 -0.094398 -0.058901   \n",
       "19532 -0.287960 -0.026452 -0.074754  1.20000 -0.004963 -0.001120 -0.109780   \n",
       "35107  4.879400  0.724190  1.010000  0.26920  4.778700  2.262500  0.507120   \n",
       "\n",
       "           CD20      CD33     CD123    CD38     CD90      CD3  category  \n",
       "16758 -0.006738 -0.555440 -0.106600  2.3930  1.27540  3.28430         4  \n",
       "64552  0.062857 -0.425700 -0.165250  3.5315 -0.01568  4.97050        14  \n",
       "30903  0.886000 -0.016354  0.946350  1.0939  1.28870  2.77450         9  \n",
       "43377 -0.072810  2.524000 -0.006666  2.4029  0.30999  5.46580         9  \n",
       "5822  -0.138900  5.073700  1.992700  4.0985  1.01490 -0.15039         2  \n",
       "12697 -0.018057  0.044404 -0.046674  1.9319  1.20520  1.42790         4  \n",
       "4817  -0.051956  4.601500  1.967100  3.0798  1.47000  1.41000         2  \n",
       "56269 -0.017540  1.769000 -0.341280  2.8757  0.53181 -0.46422        12  \n",
       "19532 -0.125190  0.550260  0.622520  2.6595  0.51005  2.05030         4  \n",
       "35107 -0.112840  0.742910  0.295800  2.3651  0.81108  4.96440         9  "
      ]
     },
     "execution_count": 4,
     "metadata": {},
     "output_type": "execute_result"
    }
   ],
   "source": [
    "data_df.sample(n=10)\n"
   ]
  },
  {
   "cell_type": "code",
   "execution_count": 5,
   "metadata": {},
   "outputs": [],
   "source": [
    "# class wise probabilities\n",
    "def one_hot_encoding(classes):\n",
    "    return to_categorical(classes)[:, 1:]  # remove category 0\n",
    "\n",
    "def one_hot_decoding(labels):\n",
    "    return labels.argmax(axis=1) + 1"
   ]
  },
  {
   "cell_type": "code",
   "execution_count": 6,
   "metadata": {},
   "outputs": [],
   "source": [
    "classes = data_df['category'].values\n",
    "labels = one_hot_encoding(classes)"
   ]
  },
  {
   "cell_type": "code",
   "execution_count": 7,
   "metadata": {},
   "outputs": [
    {
     "data": {
      "text/plain": [
       "array([ 1,  1,  1, ..., 20, 20, 20])"
      ]
     },
     "execution_count": 7,
     "metadata": {},
     "output_type": "execute_result"
    }
   ],
   "source": [
    "one_hot_decoding(labels)"
   ]
  },
  {
   "cell_type": "code",
   "execution_count": 8,
   "metadata": {},
   "outputs": [
    {
     "data": {
      "text/plain": [
       "array([[1., 0., 0., ..., 0., 0., 0.],\n",
       "       [1., 0., 0., ..., 0., 0., 0.],\n",
       "       [1., 0., 0., ..., 0., 0., 0.],\n",
       "       ...,\n",
       "       [0., 0., 0., ..., 0., 0., 1.],\n",
       "       [0., 0., 0., ..., 0., 0., 1.],\n",
       "       [0., 0., 0., ..., 0., 0., 1.]], dtype=float32)"
      ]
     },
     "execution_count": 8,
     "metadata": {},
     "output_type": "execute_result"
    }
   ],
   "source": [
    "labels # model output (softmax) for classification shows probabilities per class"
   ]
  },
  {
   "cell_type": "code",
   "execution_count": 9,
   "metadata": {},
   "outputs": [
    {
     "data": {
      "text/plain": [
       "(81075, 13)"
      ]
     },
     "execution_count": 9,
     "metadata": {},
     "output_type": "execute_result"
    }
   ],
   "source": [
    "#scale the data from 0 to 1\n",
    "min_max_scaler = MinMaxScaler(feature_range=(0, 1), copy=True)\n",
    "data = min_max_scaler.fit_transform(data_df.drop('category', axis=1).values)\n",
    "data.shape"
   ]
  },
  {
   "cell_type": "code",
   "execution_count": 10,
   "metadata": {},
   "outputs": [],
   "source": [
    "data_train, data_test, labels_train, labels_test = train_test_split(\n",
    "    data, labels,\n",
    "    # TODO make choices on keyword arguments\n",
    ")"
   ]
  },
  {
   "cell_type": "code",
   "execution_count": 11,
   "metadata": {},
   "outputs": [],
   "source": [
    "batchsize = 32"
   ]
  },
  {
   "cell_type": "code",
   "execution_count": 12,
   "metadata": {},
   "outputs": [],
   "source": [
    "dataset = tf.data.Dataset.from_tensor_slices((data_train, labels_train))\n",
    "dataset = dataset.shuffle(2 * batchsize).batch(batchsize)\n",
    "dataset = dataset.repeat()\n",
    "\n",
    "testset = tf.data.Dataset.from_tensor_slices((data_test, labels_test))\n",
    "testset = testset.batch(batchsize)"
   ]
  },
  {
   "cell_type": "markdown",
   "metadata": {},
   "source": [
    "## Implement a simple model\n",
    "start with a dense/linear layer, train a few epochs and grow/adapt your network architecture as you like\n",
    "for classification end with a softmax for output probability per celltype."
   ]
  },
  {
   "cell_type": "code",
   "execution_count": 13,
   "metadata": {
    "scrolled": false
   },
   "outputs": [
    {
     "ename": "TypeError",
     "evalue": "add() missing 1 required positional argument: 'layer'",
     "output_type": "error",
     "traceback": [
      "\u001b[0;31m---------------------------------------------------------------------------\u001b[0m",
      "\u001b[0;31mTypeError\u001b[0m                                 Traceback (most recent call last)",
      "\u001b[0;32m<ipython-input-13-77f826074d17>\u001b[0m in \u001b[0;36m<module>\u001b[0;34m\u001b[0m\n\u001b[1;32m      1\u001b[0m \u001b[0mmodel\u001b[0m \u001b[0;34m=\u001b[0m \u001b[0mtf\u001b[0m\u001b[0;34m.\u001b[0m\u001b[0mkeras\u001b[0m\u001b[0;34m.\u001b[0m\u001b[0mSequential\u001b[0m\u001b[0;34m(\u001b[0m\u001b[0;34m)\u001b[0m\u001b[0;34m\u001b[0m\u001b[0m\n\u001b[1;32m      2\u001b[0m \u001b[0;34m\u001b[0m\u001b[0m\n\u001b[0;32m----> 3\u001b[0;31m model.add(\n\u001b[0m\u001b[1;32m      4\u001b[0m     \u001b[0;31m# TODO provide layers\u001b[0m\u001b[0;34m\u001b[0m\u001b[0;34m\u001b[0m\u001b[0m\n\u001b[1;32m      5\u001b[0m )\n",
      "\u001b[0;32m~/anaconda3/envs/depiction-env/lib/python3.6/site-packages/tensorflow/python/training/tracking/base.py\u001b[0m in \u001b[0;36m_method_wrapper\u001b[0;34m(self, *args, **kwargs)\u001b[0m\n\u001b[1;32m    455\u001b[0m     \u001b[0mself\u001b[0m\u001b[0;34m.\u001b[0m\u001b[0m_self_setattr_tracking\u001b[0m \u001b[0;34m=\u001b[0m \u001b[0;32mFalse\u001b[0m  \u001b[0;31m# pylint: disable=protected-access\u001b[0m\u001b[0;34m\u001b[0m\u001b[0m\n\u001b[1;32m    456\u001b[0m     \u001b[0;32mtry\u001b[0m\u001b[0;34m:\u001b[0m\u001b[0;34m\u001b[0m\u001b[0m\n\u001b[0;32m--> 457\u001b[0;31m       \u001b[0mresult\u001b[0m \u001b[0;34m=\u001b[0m \u001b[0mmethod\u001b[0m\u001b[0;34m(\u001b[0m\u001b[0mself\u001b[0m\u001b[0;34m,\u001b[0m \u001b[0;34m*\u001b[0m\u001b[0margs\u001b[0m\u001b[0;34m,\u001b[0m \u001b[0;34m**\u001b[0m\u001b[0mkwargs\u001b[0m\u001b[0;34m)\u001b[0m\u001b[0;34m\u001b[0m\u001b[0m\n\u001b[0m\u001b[1;32m    458\u001b[0m     \u001b[0;32mfinally\u001b[0m\u001b[0;34m:\u001b[0m\u001b[0;34m\u001b[0m\u001b[0m\n\u001b[1;32m    459\u001b[0m       \u001b[0mself\u001b[0m\u001b[0;34m.\u001b[0m\u001b[0m_self_setattr_tracking\u001b[0m \u001b[0;34m=\u001b[0m \u001b[0mprevious_value\u001b[0m  \u001b[0;31m# pylint: disable=protected-access\u001b[0m\u001b[0;34m\u001b[0m\u001b[0m\n",
      "\u001b[0;31mTypeError\u001b[0m: add() missing 1 required positional argument: 'layer'"
     ]
    }
   ],
   "source": [
    "model = tf.keras.Sequential()\n",
    "\n",
    "model.add(\n",
    "    # TODO provide layers\n",
    ")"
   ]
  },
  {
   "cell_type": "code",
   "execution_count": 14,
   "metadata": {},
   "outputs": [
    {
     "ename": "ValueError",
     "evalue": "This model has not yet been built. Build the model first by calling `build()` or calling `fit()` with some data, or specify an `input_shape` argument in the first layer(s) for automatic build.",
     "output_type": "error",
     "traceback": [
      "\u001b[0;31m---------------------------------------------------------------------------\u001b[0m",
      "\u001b[0;31mValueError\u001b[0m                                Traceback (most recent call last)",
      "\u001b[0;32m<ipython-input-14-5f15418b3570>\u001b[0m in \u001b[0;36m<module>\u001b[0;34m\u001b[0m\n\u001b[0;32m----> 1\u001b[0;31m \u001b[0mmodel\u001b[0m\u001b[0;34m.\u001b[0m\u001b[0msummary\u001b[0m\u001b[0;34m(\u001b[0m\u001b[0;34m)\u001b[0m\u001b[0;34m\u001b[0m\u001b[0m\n\u001b[0m",
      "\u001b[0;32m~/anaconda3/envs/depiction-env/lib/python3.6/site-packages/tensorflow/python/keras/engine/network.py\u001b[0m in \u001b[0;36msummary\u001b[0;34m(self, line_length, positions, print_fn)\u001b[0m\n\u001b[1;32m   1502\u001b[0m     \"\"\"\n\u001b[1;32m   1503\u001b[0m     \u001b[0;32mif\u001b[0m \u001b[0;32mnot\u001b[0m \u001b[0mself\u001b[0m\u001b[0;34m.\u001b[0m\u001b[0mbuilt\u001b[0m\u001b[0;34m:\u001b[0m\u001b[0;34m\u001b[0m\u001b[0m\n\u001b[0;32m-> 1504\u001b[0;31m       raise ValueError('This model has not yet been built. '\n\u001b[0m\u001b[1;32m   1505\u001b[0m                        \u001b[0;34m'Build the model first by calling `build()` or calling '\u001b[0m\u001b[0;34m\u001b[0m\u001b[0m\n\u001b[1;32m   1506\u001b[0m                        \u001b[0;34m'`fit()` with some data, or specify '\u001b[0m\u001b[0;34m\u001b[0m\u001b[0m\n",
      "\u001b[0;31mValueError\u001b[0m: This model has not yet been built. Build the model first by calling `build()` or calling `fit()` with some data, or specify an `input_shape` argument in the first layer(s) for automatic build."
     ]
    }
   ],
   "source": [
    "model.summary()"
   ]
  },
  {
   "cell_type": "code",
   "execution_count": null,
   "metadata": {},
   "outputs": [],
   "source": [
    "model.compile(optimizer=tf.keras.optimizers.Adam(0.001),\n",
    "              loss='categorical_crossentropy',\n",
    "              metrics=[tf.keras.metrics.categorical_accuracy])"
   ]
  },
  {
   "cell_type": "code",
   "execution_count": null,
   "metadata": {
    "scrolled": true
   },
   "outputs": [],
   "source": [
    "# evaluation on testset on every epoch\n",
    "# log_dir=\"logs/fit/\" + datetime.datetime.now().strftime(\"%Y%m%d-%H%M%S\")\n",
    "# tensorboard_callback = tf.keras.callbacks.TensorBoard(log_dir=log_dir, histogram_freq=1)\n",
    "model.fit(\n",
    "    dataset,\n",
    "    epochs=20, steps_per_epoch=np.ceil(data_train.shape[0]/batchsize),\n",
    "    validation_data=testset, #  callbacks=[tensorboard_callback]\n",
    ")"
   ]
  },
  {
   "cell_type": "markdown",
   "metadata": {},
   "source": [
    "## Now what did the model learn?\n",
    "Let's save to model to use an explainer from `depiction` to investigate"
   ]
  },
  {
   "cell_type": "code",
   "execution_count": null,
   "metadata": {},
   "outputs": [],
   "source": [
    "!pwd\n",
    "!ls"
   ]
  },
  {
   "cell_type": "code",
   "execution_count": null,
   "metadata": {},
   "outputs": [],
   "source": [
    "# Save entire model to a HDF5 file\n",
    "model.save('./celltype_model.h5')"
   ]
  },
  {
   "cell_type": "code",
   "execution_count": null,
   "metadata": {},
   "outputs": [],
   "source": [
    "# tensorboard --logdir logs/fit"
   ]
  },
  {
   "cell_type": "code",
   "execution_count": null,
   "metadata": {},
   "outputs": [],
   "source": [
    "# To recreate the exact same model, including weights and optimizer.\n",
    "# model = tf.keras.models.load_model('./celltype_model')"
   ]
  },
  {
   "cell_type": "markdown",
   "metadata": {},
   "source": [
    "# Part II - Explaining"
   ]
  },
  {
   "cell_type": "markdown",
   "metadata": {},
   "source": [
    "### Here we are going to apply _lime_ and _anchor_ to the model to explain the prediction for given samples\n",
    "keep in mind those methods are trained on data themselves"
   ]
  },
  {
   "cell_type": "code",
   "execution_count": null,
   "metadata": {},
   "outputs": [],
   "source": [
    "# Use DataFrame to track feature names and choose samples of given class\n",
    "test_df = pd.DataFrame(\n",
    "    np.append(data_test, one_hot_decoding(labels_test)[:, None], axis=1), columns=data_df.columns\n",
    ")\n",
    "# valid_df, test_df = train_test_split(test_df, test_size=0.67, stratify=test_df.category)\n",
    "data_valid, data_test, labels_valid, labels_test = train_test_split(\n",
    "    data_test, labels_test, test_size=0.67, stratify=test_df.category\n",
    ")\n",
    "\n",
    "# train_df.head()"
   ]
  },
  {
   "cell_type": "code",
   "execution_count": null,
   "metadata": {},
   "outputs": [],
   "source": [
    "pd.Series()"
   ]
  },
  {
   "cell_type": "markdown",
   "metadata": {},
   "source": [
    "## Using the pretrained model  with `depiction`\n",
    "by implementing a class inheriting from `depiction.models.Model`  \n"
   ]
  },
  {
   "cell_type": "code",
   "execution_count": 15,
   "metadata": {},
   "outputs": [
    {
     "name": "stdout",
     "output_type": "stream",
     "text": [
      "/home/phineas/Documents/repos/dl-interpretability-compbio/notebooks\n",
      "celltype_exercise.ipynb\t\t deepbind.ipynb   single-cell.py\n",
      "celltype_interpretability.ipynb  model-zoo.ipynb  test.ipynb\n",
      "celltype_model.h5\t\t paccmann.ipynb\n",
      "celltype_training.ipynb\t\t README.md\n",
      "celltype_model.h5\n"
     ]
    }
   ],
   "source": [
    "# lets find the saved model\n",
    "!pwd\n",
    "!ls\n",
    "!ls ~/.keras/models"
   ]
  },
  {
   "cell_type": "code",
   "execution_count": 16,
   "metadata": {},
   "outputs": [],
   "source": [
    "import depiction"
   ]
  },
  {
   "cell_type": "code",
   "execution_count": 17,
   "metadata": {},
   "outputs": [],
   "source": [
    "from tensorflow import keras\n",
    "from depiction.models.base.base_model import BaseModel\n",
    "from depiction.core import Task, DataType\n",
    "\n",
    "class CellTyper(BaseModel):\n",
    "    \"\"\"Classifier of single cells to be explained.\"\"\"\n",
    "\n",
    "    def __init__(self, filename, directory): \n",
    "        \"\"\"Initalize the Model.\"\"\"\n",
    "        super(CellTyper, self).__init__(Task.CLASSIFICATION, DataType.TABULAR)\n",
    "        self.model_path = os.path.join(os.path.expanduser(directory), filename)\n",
    "        self.model = None # TODO load your model from disk\n",
    "\n",
    "    def predict(self, sample, **kwargs):\n",
    "        \"\"\"\n",
    "        Run the model for inference on a given sample and with the provided\n",
    "        parameters.\n",
    "\n",
    "        Arguments:\n",
    "            sample (object): an input sample for the model.\n",
    "            kwargs (dict): list of key-value arguments.\n",
    "\n",
    "        Returns:\n",
    "            a prediction for the model on the given sample.\n",
    "        \"\"\"\n",
    "        return self.model.predict(\n",
    "            sample) # TODO return prediction of sample"
   ]
  },
  {
   "cell_type": "markdown",
   "metadata": {},
   "source": [
    "### We actually just need the results from prediction, not access to the full model."
   ]
  },
  {
   "cell_type": "code",
   "execution_count": 18,
   "metadata": {},
   "outputs": [],
   "source": [
    "# Import trained classifier, or use a pretrained one with directory '~/.keras/models'\n",
    "classifier = CellTyper(filename='celltype_model.h5', directory='.')"
   ]
  },
  {
   "cell_type": "code",
   "execution_count": 19,
   "metadata": {},
   "outputs": [
    {
     "ename": "AttributeError",
     "evalue": "'NoneType' object has no attribute 'summary'",
     "output_type": "error",
     "traceback": [
      "\u001b[0;31m---------------------------------------------------------------------------\u001b[0m",
      "\u001b[0;31mAttributeError\u001b[0m                            Traceback (most recent call last)",
      "\u001b[0;32m<ipython-input-19-4b3151a1528f>\u001b[0m in \u001b[0;36m<module>\u001b[0;34m\u001b[0m\n\u001b[0;32m----> 1\u001b[0;31m \u001b[0mclassifier\u001b[0m\u001b[0;34m.\u001b[0m\u001b[0mmodel\u001b[0m\u001b[0;34m.\u001b[0m\u001b[0msummary\u001b[0m\u001b[0;34m(\u001b[0m\u001b[0;34m)\u001b[0m\u001b[0;34m\u001b[0m\u001b[0m\n\u001b[0m",
      "\u001b[0;31mAttributeError\u001b[0m: 'NoneType' object has no attribute 'summary'"
     ]
    }
   ],
   "source": [
    "classifier.model.summary()"
   ]
  },
  {
   "cell_type": "markdown",
   "metadata": {},
   "source": [
    "## Layer weights\n",
    "are only somewhat interpretable if the model has a single layer"
   ]
  },
  {
   "cell_type": "code",
   "execution_count": null,
   "metadata": {},
   "outputs": [],
   "source": [
    "meta_series.values"
   ]
  },
  {
   "cell_type": "code",
   "execution_count": null,
   "metadata": {},
   "outputs": [],
   "source": [
    "single_layer_model = tf.keras.models.load_model(os.path.expanduser('~/.keras/models/celltype_model.h5'))\n",
    "weights = None  # TODO access weights from single_layer_model\n",
    "sns.heatmap(pd.DataFrame(\n",
    "    weights,\n",
    "    index=data_df.columns[:-1],\n",
    "    columns=meta_series.values\n",
    ").T)"
   ]
  },
  {
   "cell_type": "markdown",
   "metadata": {},
   "source": [
    "## Interpretability methods\n",
    "helper functions and a widget to sample from a class"
   ]
  },
  {
   "cell_type": "code",
   "execution_count": 23,
   "metadata": {},
   "outputs": [],
   "source": [
    "from depiction.interpreters.u_wash.u_washer import UWasher\n",
    "from depiction.core import DataType"
   ]
  },
  {
   "cell_type": "code",
   "execution_count": 24,
   "metadata": {},
   "outputs": [],
   "source": [
    "class_names = meta_series.to_dict()['cell type name']"
   ]
  },
  {
   "cell_type": "code",
   "execution_count": 25,
   "metadata": {},
   "outputs": [
    {
     "ename": "TypeError",
     "evalue": "__init__() missing 1 required positional argument: 'training_data'",
     "output_type": "error",
     "traceback": [
      "\u001b[0;31m---------------------------------------------------------------------------\u001b[0m",
      "\u001b[0;31mTypeError\u001b[0m                                 Traceback (most recent call last)",
      "\u001b[0;32m<ipython-input-25-4c1bec42c2fd>\u001b[0m in \u001b[0;36m<module>\u001b[0;34m\u001b[0m\n\u001b[1;32m      6\u001b[0m }\n\u001b[1;32m      7\u001b[0m \u001b[0;34m\u001b[0m\u001b[0m\n\u001b[0;32m----> 8\u001b[0;31m \u001b[0mexplainer\u001b[0m \u001b[0;34m=\u001b[0m \u001b[0mUWasher\u001b[0m\u001b[0;34m(\u001b[0m\u001b[0;34m\"lime\"\u001b[0m\u001b[0;34m,\u001b[0m \u001b[0mclassifier\u001b[0m\u001b[0;34m,\u001b[0m \u001b[0;34m**\u001b[0m\u001b[0minterpreter_params\u001b[0m\u001b[0;34m)\u001b[0m\u001b[0;34m\u001b[0m\u001b[0m\n\u001b[0m\u001b[1;32m      9\u001b[0m \u001b[0;34m\u001b[0m\u001b[0m\n\u001b[1;32m     10\u001b[0m \u001b[0mid_sample_to_explain\u001b[0m \u001b[0;34m=\u001b[0m \u001b[0;36m0\u001b[0m\u001b[0;34m\u001b[0m\u001b[0m\n",
      "\u001b[0;32m~/Documents/repos/dl-interpretability-compbio/depiction/interpreters/u_wash/u_washer.py\u001b[0m in \u001b[0;36m__init__\u001b[0;34m(self, interpreter, model, **kwargs)\u001b[0m\n\u001b[1;32m     53\u001b[0m         \u001b[0mself\u001b[0m\u001b[0;34m.\u001b[0m\u001b[0mmodel\u001b[0m \u001b[0;34m=\u001b[0m \u001b[0mmodel\u001b[0m\u001b[0;34m\u001b[0m\u001b[0m\n\u001b[1;32m     54\u001b[0m         \u001b[0mInterpreter_model\u001b[0m \u001b[0;34m=\u001b[0m \u001b[0mself\u001b[0m\u001b[0;34m.\u001b[0m\u001b[0mAVAILABLE_INTERPRETERS\u001b[0m\u001b[0;34m[\u001b[0m\u001b[0minterpreter\u001b[0m\u001b[0;34m]\u001b[0m\u001b[0;34m[\u001b[0m\u001b[0mmodel\u001b[0m\u001b[0;34m.\u001b[0m\u001b[0mdata_type\u001b[0m\u001b[0;34m]\u001b[0m\u001b[0;34m\u001b[0m\u001b[0m\n\u001b[0;32m---> 55\u001b[0;31m         \u001b[0mself\u001b[0m\u001b[0;34m.\u001b[0m\u001b[0mexplainer\u001b[0m \u001b[0;34m=\u001b[0m \u001b[0mInterpreter_model\u001b[0m\u001b[0;34m(\u001b[0m\u001b[0;34m**\u001b[0m\u001b[0mkwargs\u001b[0m\u001b[0;34m)\u001b[0m\u001b[0;34m\u001b[0m\u001b[0m\n\u001b[0m\u001b[1;32m     56\u001b[0m \u001b[0;34m\u001b[0m\u001b[0m\n\u001b[1;32m     57\u001b[0m     \u001b[0;32mdef\u001b[0m \u001b[0minterpret\u001b[0m\u001b[0;34m(\u001b[0m\u001b[0mself\u001b[0m\u001b[0;34m,\u001b[0m \u001b[0msample\u001b[0m\u001b[0;34m,\u001b[0m \u001b[0mcallback_args\u001b[0m \u001b[0;34m=\u001b[0m \u001b[0;34m{\u001b[0m\u001b[0;34m}\u001b[0m\u001b[0;34m,\u001b[0m \u001b[0mexplanation_configs\u001b[0m \u001b[0;34m=\u001b[0m \u001b[0;34m{\u001b[0m\u001b[0;34m}\u001b[0m\u001b[0;34m,\u001b[0m \u001b[0mpath\u001b[0m\u001b[0;34m=\u001b[0m\u001b[0;32mNone\u001b[0m\u001b[0;34m,\u001b[0m \u001b[0mcallback\u001b[0m\u001b[0;34m=\u001b[0m\u001b[0;32mNone\u001b[0m\u001b[0;34m)\u001b[0m\u001b[0;34m:\u001b[0m\u001b[0;34m\u001b[0m\u001b[0m\n",
      "\u001b[0;31mTypeError\u001b[0m: __init__() missing 1 required positional argument: 'training_data'"
     ]
    }
   ],
   "source": [
    "explanation_configs = {\n",
    "        'top_labels': 1\n",
    "    }\n",
    "interpreter_params = {\n",
    "        # TODO provide interpreter params\n",
    "}\n",
    "\n",
    "explainer = UWasher(\"lime\", classifier, **interpreter_params)\n",
    "\n",
    "id_sample_to_explain = 0\n",
    "# explain the chosen instance wrt the chosen labels\n",
    "explainer.interpret(test_df.values[id_sample_to_explain, :-1], explanation_configs=explanation_configs)"
   ]
  },
  {
   "cell_type": "markdown",
   "metadata": {},
   "source": [
    "## Widgets to look at random sample from class"
   ]
  },
  {
   "cell_type": "code",
   "execution_count": 29,
   "metadata": {},
   "outputs": [],
   "source": [
    "def random_from_class(label):\n",
    "    id_sample_to_explain = test_df.reset_index().query('category==@label').sample(n=1).index[0]\n",
    "    print('Interpreting sample with index {} in test_df'.format(id_sample_to_explain))\n",
    "    return id_sample_to_explain\n",
    "\n",
    "\n",
    "def interpret_with_lime(id_sample_to_explain):\n",
    "# Create a LIME tabular interpreter\n",
    "    explanation_configs = {\n",
    "        'top_labels': 1\n",
    "    }\n",
    "    interpreter_params = {\n",
    "        # TODO provide interpreter params\n",
    "    }\n",
    "\n",
    "    explainer = UWasher(\"lime\", classifier, **interpreter_params)\n",
    "\n",
    "    # explain the chosen instance wrt the chosen labels\n",
    "    explainer.interpret(test_df.values[id_sample_to_explain, :-1], explanation_configs=explanation_configs)\n",
    "\n",
    "\n",
    "def interpret_with_anchor(id_sample_to_explain):\n",
    "    explanation_configs = {}\n",
    "    interpreter_params = {\n",
    "        'feature_names': data_df.columns[:-1],\n",
    "        'class_names': class_names.values(),\n",
    "        'categorical_names': {}\n",
    "    }\n",
    "\n",
    "    explainer = UWasher('anchors', classifier, **interpreter_params)  \n",
    "    \n",
    "    explainer.explainer.fit(\n",
    "        data_train, labels_train, data_valid, labels_valid #.astype(np.int)\n",
    "    )\n",
    "\n",
    "\n",
    "    # explain the chosen instance wrt the chosen labels\n",
    "    def new_predict(sample, **kwargs):\n",
    "        return np.argmax(classifier.predict(sample,**kwargs), axis=1)\n",
    "    explainer.interpret(test_df.values[id_sample_to_explain, :-1], explanation_configs=explanation_configs,callback=new_predict)\n",
    "\n",
    "    \n",
    "def interpret_random_from_class(label, interpreter):\n",
    "    id_sample_to_explain = random_from_class(label)\n",
    "    if interpreter == 'lime':\n",
    "        interpret_with_lime(id_sample_to_explain)\n",
    "    elif interpreter == 'anchor':\n",
    "        interpret_with_anchor(id_sample_to_explain)"
   ]
  },
  {
   "cell_type": "code",
   "execution_count": 27,
   "metadata": {},
   "outputs": [
    {
     "data": {
      "application/vnd.jupyter.widget-view+json": {
       "model_id": "790f720b8af5498fbb5f935fdd4ad9e7",
       "version_major": 2,
       "version_minor": 0
      },
      "text/plain": [
       "interactive(children=(Dropdown(description='label', options=(('CD11b- Monocyte', 1), ('CD11bhi Monocyte', 2), …"
      ]
     },
     "metadata": {},
     "output_type": "display_data"
    }
   ],
   "source": [
    "interact_manual(interpret_random_from_class, label=[(v, k) for k, v in class_names.items()],\n",
    "         interpreter=['lime', 'anchor']\n",
    ");"
   ]
  },
  {
   "cell_type": "code",
   "execution_count": 30,
   "metadata": {},
   "outputs": [
    {
     "ename": "NameError",
     "evalue": "name 'data_valid' is not defined",
     "output_type": "error",
     "traceback": [
      "\u001b[0;31m---------------------------------------------------------------------------\u001b[0m",
      "\u001b[0;31mNameError\u001b[0m                                 Traceback (most recent call last)",
      "\u001b[0;32m<ipython-input-30-4fa0cff6e012>\u001b[0m in \u001b[0;36m<module>\u001b[0;34m\u001b[0m\n\u001b[0;32m----> 1\u001b[0;31m \u001b[0minterpret_with_anchor\u001b[0m\u001b[0;34m(\u001b[0m\u001b[0;36m8373\u001b[0m\u001b[0;34m)\u001b[0m\u001b[0;34m\u001b[0m\u001b[0m\n\u001b[0m",
      "\u001b[0;32m<ipython-input-29-2758aabd7dce>\u001b[0m in \u001b[0;36minterpret_with_anchor\u001b[0;34m(id_sample_to_explain)\u001b[0m\n\u001b[1;32m     31\u001b[0m \u001b[0;34m\u001b[0m\u001b[0m\n\u001b[1;32m     32\u001b[0m     explainer.explainer.fit(\n\u001b[0;32m---> 33\u001b[0;31m         \u001b[0mdata_train\u001b[0m\u001b[0;34m,\u001b[0m \u001b[0mlabels_train\u001b[0m\u001b[0;34m,\u001b[0m \u001b[0mdata_valid\u001b[0m\u001b[0;34m,\u001b[0m \u001b[0mlabels_valid\u001b[0m \u001b[0;31m#.astype(np.int)\u001b[0m\u001b[0;34m\u001b[0m\u001b[0m\n\u001b[0m\u001b[1;32m     34\u001b[0m     )\n\u001b[1;32m     35\u001b[0m \u001b[0;34m\u001b[0m\u001b[0m\n",
      "\u001b[0;31mNameError\u001b[0m: name 'data_valid' is not defined"
     ]
    }
   ],
   "source": [
    "interpret_with_anchor(8373)"
   ]
  },
  {
   "cell_type": "markdown",
   "metadata": {},
   "source": [
    "Compare qualitatively to __B__ and **C** (thought the image is not depicting this exact dataset)\n",
    "![manual_gated](https://science.sciencemag.org/content/sci/332/6030/687/F2.large.jpg?width=800&height=600&carousel=1)\n",
    "from https://science.sciencemag.org/content/332/6030/687/tab-figures-data"
   ]
  },
  {
   "cell_type": "code",
   "execution_count": null,
   "metadata": {},
   "outputs": [],
   "source": []
  }
 ],
 "metadata": {
  "kernelspec": {
   "display_name": "Python 3",
   "language": "python",
   "name": "python3"
  },
  "language_info": {
   "codemirror_mode": {
    "name": "ipython",
    "version": 3
   },
   "file_extension": ".py",
   "mimetype": "text/x-python",
   "name": "python",
   "nbconvert_exporter": "python",
   "pygments_lexer": "ipython3",
   "version": "3.6.5"
  }
 },
 "nbformat": 4,
 "nbformat_minor": 2
}

{
 "cells": [
  {
   "cell_type": "code",
   "execution_count": null,
   "metadata": {},
   "outputs": [],
   "source": [
    "# import all the needed libraries\n",
    "import pandas as pd\n",
    "from depiction.models.paccmann import PaccMannSmiles, PaccMannCellLine"
   ]
  },
  {
   "cell_type": "code",
   "execution_count": null,
   "metadata": {},
   "outputs": [],
   "source": [
    "# initialize some data\n",
    "# drugs\n",
    "drugs = pd.read_csv('../data/paccmann/gdsc.smi', sep='\\t', index_col=1)\n",
    "# a drug\n",
    "drug = drugs.iloc[3].item()\n",
    "# some drugs\n",
    "some_drugs = list(drugs.values[:, 0][:100])\n",
    "# cell lines\n",
    "cell_lines = pd.read_csv('../data/paccmann/gdsc.csv.gz', index_col=0)\n",
    "# a cell line\n",
    "cell_line = cell_lines.iloc[5][3:].values\n",
    "# some cell lines\n",
    "some_cell_lines = list(cell_lines.values[:200, 3:])"
   ]
  },
  {
   "cell_type": "code",
   "execution_count": null,
   "metadata": {},
   "outputs": [],
   "source": [
    "# instantiate paccmann for prediction on SMILES given a cell line\n",
    "paccmann_smiles = PaccMannSmiles(cell_line)"
   ]
  },
  {
   "cell_type": "code",
   "execution_count": null,
   "metadata": {},
   "outputs": [],
   "source": [
    "# predict on SMILES\n",
    "results_smiles = paccmann_smiles.predict(some_drugs)\n",
    "results_smiles"
   ]
  },
  {
   "cell_type": "code",
   "execution_count": null,
   "metadata": {},
   "outputs": [],
   "source": [
    "# instantiate paccmann for prediction on cell lines given a SMILES\n",
    "paccmann_cell_line = PaccMannCellLine(drug)"
   ]
  },
  {
   "cell_type": "code",
   "execution_count": null,
   "metadata": {},
   "outputs": [],
   "source": [
    "# predict on cell lines\n",
    "results_cell_line = paccmann_cell_line.predict(some_cell_lines)\n",
    "results_cell_line"
   ]
  }
 ],
 "metadata": {
  "kernelspec": {
   "display_name": "Python 3",
   "language": "python",
   "name": "python3"
  },
  "language_info": {
   "codemirror_mode": {
    "name": "ipython",
    "version": 3
   },
   "file_extension": ".py",
   "mimetype": "text/x-python",
   "name": "python",
   "nbconvert_exporter": "python",
   "pygments_lexer": "ipython3",
   "version": "3.6.7"
  }
 },
 "nbformat": 4,
 "nbformat_minor": 2
}

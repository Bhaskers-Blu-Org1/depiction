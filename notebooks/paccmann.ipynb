{
 "cells": [
  {
   "cell_type": "code",
   "execution_count": null,
   "metadata": {},
   "outputs": [],
   "source": [
    "# import all the needed libraries\n",
    "import pandas as pd\n",
    "from depiction.models.paccmann import PaccMannSmiles, PaccMannCellLine\n",
    "from depiction.core import Task, DataType\n",
    "from depiction.interpreters.uw_model import UWModel"
   ]
  },
  {
   "cell_type": "markdown",
   "metadata": {},
   "source": [
    "## Data"
   ]
  },
  {
   "cell_type": "code",
   "execution_count": null,
   "metadata": {},
   "outputs": [],
   "source": [
    "# Parse data from GDSC\n",
    "# drugs\n",
    "drugs = pd.read_csv(\n",
    "    '../data/paccmann/gdsc.smi', sep='\\t',\n",
    "    index_col=1, header=None,\n",
    "    names=['smiles']\n",
    ")\n",
    "# cell lines\n",
    "cell_lines = pd.read_csv('../data/paccmann/gdsc.csv.gz', index_col=1)\n",
    "# sensitivity data\n",
    "drug_sensitivity = pd.read_csv('../data/paccmann/gdsc_sensitivity.csv.gz', index_col=0)"
   ]
  },
  {
   "cell_type": "markdown",
   "metadata": {},
   "source": [
    "## Interpretability on the drug level for a cell line of interest"
   ]
  },
  {
   "cell_type": "code",
   "execution_count": null,
   "metadata": {},
   "outputs": [],
   "source": [
    "task = Task.CLASSIFICATION\n",
    "data_type = DataType.TEXT\n",
    "class_names = ['Not Effective', 'Effective']"
   ]
  },
  {
   "cell_type": "code",
   "execution_count": null,
   "metadata": {},
   "outputs": [],
   "source": [
    "interpreter = 'lime'\n",
    "explanation_configs = {\n",
    "    'labels': (1,),\n",
    "}\n",
    "interpreter_params = {\n",
    "    'class_names': class_names,\n",
    "    'split_expression': list,\n",
    "    'bow': False\n",
    "}\n",
    "explainer = UWModel(interpreter, task, data_type, explanation_configs, **interpreter_params)"
   ]
  },
  {
   "cell_type": "code",
   "execution_count": null,
   "metadata": {},
   "outputs": [],
   "source": [
    "selected_cell_line = 'NCI-H1648'\n",
    "selected_drug_sensitivity = drug_sensitivity[drug_sensitivity['cell_line'] == selected_cell_line]"
   ]
  },
  {
   "cell_type": "code",
   "execution_count": null,
   "metadata": {},
   "outputs": [],
   "source": [
    "classifier = PaccMannSmiles(cell_lines.loc[selected_cell_line][3:].values)"
   ]
  },
  {
   "cell_type": "code",
   "execution_count": null,
   "metadata": {
    "scrolled": true
   },
   "outputs": [],
   "source": [
    "explainer.interpret(classifier.predict, drugs.loc['Erlotinib'].item())"
   ]
  }
 ],
 "metadata": {
  "kernelspec": {
   "display_name": "Python 3",
   "language": "python",
   "name": "python3"
  },
  "language_info": {
   "codemirror_mode": {
    "name": "ipython",
    "version": 3
   },
   "file_extension": ".py",
   "mimetype": "text/x-python",
   "name": "python",
   "nbconvert_exporter": "python",
   "pygments_lexer": "ipython3",
   "version": "3.6.7"
  }
 },
 "nbformat": 4,
 "nbformat_minor": 2
}

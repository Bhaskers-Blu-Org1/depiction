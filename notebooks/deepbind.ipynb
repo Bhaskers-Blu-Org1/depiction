{
 "cells": [
  {
   "cell_type": "markdown",
   "metadata": {},
   "source": [
    "# Having fun with DeepBind"
   ]
  },
  {
   "cell_type": "code",
   "execution_count": null,
   "metadata": {},
   "outputs": [],
   "source": [
    "from depiction.models.examples.deepbind.deepbind import DeepBind\n",
    "from depiction.core import Task, DataType\n",
    "from depiction.interpreters.u_wash.u_washer import UWasher\n",
    "from depiction.models.examples.deepbind.deepbind import create_DNA_language\n",
    "from ipywidgets import interact"
   ]
  },
  {
   "cell_type": "markdown",
   "metadata": {},
   "source": [
    "## Setup task"
   ]
  },
  {
   "cell_type": "code",
   "execution_count": null,
   "metadata": {},
   "outputs": [],
   "source": [
    "class_names = ['NOT BINDING', 'BINDING']\n",
    "tf_factor_id = 'D00328.003' # CTCF\n",
    "classifier = DeepBind(tf_factor_id = tf_factor_id)"
   ]
  },
  {
   "cell_type": "markdown",
   "metadata": {},
   "source": [
    "# Instantiate the interpreters"
   ]
  },
  {
   "cell_type": "code",
   "execution_count": null,
   "metadata": {},
   "outputs": [],
   "source": [
    "# Create a LIME text interpreter\n",
    "interpreter = 'lime'\n",
    "lime_explanation_configs = {\n",
    "    'labels': (1,),\n",
    "}\n",
    "interpreter_params = {\n",
    "    'class_names': class_names,\n",
    "    'split_expression': list,\n",
    "    'bow': False,\n",
    "    'char_level': True\n",
    "}\n",
    "\n",
    "lime_explainer = UWasher(interpreter, classifier, **interpreter_params)\n",
    "\n",
    "# Create Anchor text intepreter\n",
    "interpreter = 'anchors'\n",
    "anchors_explanation_configs = {\n",
    "    'use_proba': False,\n",
    "    'batch_size': 100\n",
    "}\n",
    "interpreter_params = {\n",
    "    'class_names': class_names,\n",
    "    'nlp': create_DNA_language(),\n",
    "    'unk_token': 'N',\n",
    "    'sep_token': '',\n",
    "    'use_unk_distribution': True\n",
    "}\n",
    "\n",
    "anchor_explainer = UWasher(interpreter, classifier, **interpreter_params)"
   ]
  },
  {
   "cell_type": "markdown",
   "metadata": {},
   "source": [
    "### Wrapper for the interactive widget"
   ]
  },
  {
   "cell_type": "code",
   "execution_count": null,
   "metadata": {},
   "outputs": [],
   "source": [
    "class InteractiveWrapper:\n",
    "    def __init__(self, classifier):\n",
    "        self.classifier = classifier\n",
    "        \n",
    "    def callback(self, sequence):\n",
    "        # LIME\n",
    "        self.classifier.use_labels = False\n",
    "        lime_explainer.interpret(sequence, explanation_configs=lime_explanation_configs)\n",
    "        # Anchors \n",
    "        self.classifier.use_labels = True\n",
    "        anchor_explainer.interpret(sequence, explanation_configs=anchors_explanation_configs)"
   ]
  },
  {
   "cell_type": "markdown",
   "metadata": {},
   "source": [
    "# Let's interpret"
   ]
  },
  {
   "cell_type": "code",
   "execution_count": null,
   "metadata": {},
   "outputs": [],
   "source": [
    "wrapper = InteractiveWrapper(classifier)\n",
    "\n",
    "interact(\n",
    "    wrapper.callback,\n",
    "    sequence=[\n",
    "        'AGGCTAGCTAGGGGCGCCC', 'AGGCTAGCTAGGGGCGCTT', 'AGGGTAGCTAGGGGCGCTT',\n",
    "        'AGGGTAGCTGGGGGCGCTT', 'AGGCTAGGTGGGGGCGCTT', 'AGGCTCGGTGGGGGCGCTT',\n",
    "        'AGGCTCGGTAGGGGGCGATT'\n",
    "    ]\n",
    ")"
   ]
  },
  {
   "cell_type": "markdown",
   "metadata": {},
   "source": [
    "CTCF binding motif\n",
    "![CTCF binding motif](https://media.springernature.com/full/springer-static/image/art%3A10.1186%2Fgb-2009-10-11-r131/MediaObjects/13059_2009_Article_2281_Fig2_HTML.jpg?as=webp)\n",
    "from Essien, Kobby, et al. \"CTCF binding site classes exhibit distinct evolutionary, genomic, epigenomic and transcriptomic features.\" Genome biology 10.11 (2009): R131."
   ]
  },
  {
   "cell_type": "code",
   "execution_count": null,
   "metadata": {},
   "outputs": [],
   "source": [
    "tf_factor_id = 'D00761.001' # FOXA1\n",
    "classifier.tf_factor_id = tf_factor_id\n",
    "wrapper = InteractiveWrapper(classifier)\n",
    "\n",
    "interact(wrapper.callback, sequence='TGTGTGTGTG')"
   ]
  },
  {
   "cell_type": "markdown",
   "metadata": {},
   "source": [
    "FOXA1 binding motif\n",
    "![FOXA1 binding motif](https://ismara.unibas.ch/supp/dataset1_IBM_v2/ismara_report/logos/FOXA1.png)\n",
    "from https://ismara.unibas.ch/supp/dataset1_IBM_v2/ismara_report/pages/FOXA1.html"
   ]
  }
 ],
 "metadata": {
  "kernelspec": {
   "display_name": "Python 3",
   "language": "python",
   "name": "python3"
  },
  "language_info": {
   "codemirror_mode": {
    "name": "ipython",
    "version": 3
   },
   "file_extension": ".py",
   "mimetype": "text/x-python",
   "name": "python",
   "nbconvert_exporter": "python",
   "pygments_lexer": "ipython3",
   "version": "3.6.5"
  }
 },
 "nbformat": 4,
 "nbformat_minor": 2
}

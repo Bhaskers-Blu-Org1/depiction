{
 "cells": [
  {
   "cell_type": "code",
   "execution_count": null,
   "metadata": {},
   "outputs": [],
   "source": [
    "from depiction.models.deepbind import DeepBind\n",
    "from depiction.core import Task, DataType\n",
    "from depiction.interpreters.uw_model import UWModel"
   ]
  },
  {
   "cell_type": "code",
   "execution_count": null,
   "metadata": {},
   "outputs": [],
   "source": [
    "classifier = DeepBind()"
   ]
  },
  {
   "cell_type": "code",
   "execution_count": null,
   "metadata": {},
   "outputs": [],
   "source": [
    "task = Task.CLASSIFICATION\n",
    "data_type = DataType.TEXT\n",
    "class_names = [\"NOT BINDING\", \"BINDING\"]"
   ]
  },
  {
   "cell_type": "code",
   "execution_count": null,
   "metadata": {},
   "outputs": [],
   "source": [
    "# Create a LIME tabular interpreter\n",
    "interpreter = \"lime\"\n",
    "explanation_configs = {\n",
    "    \"labels\": (1,),\n",
    "}\n",
    "interpreter_params = {\n",
    "    \"class_names\": class_names,\n",
    "    \"split_expression\": list,\n",
    "    \"bow\": False,\n",
    "    \"char_level\": True\n",
    "}\n",
    "\n",
    "explainer = UWModel(interpreter, task, data_type, explanation_configs, **interpreter_params)"
   ]
  },
  {
   "cell_type": "code",
   "execution_count": null,
   "metadata": {},
   "outputs": [],
   "source": [
    "classifier.use_labels = False\n",
    "explainer.interpret(classifier.predict, \"CAAATGTCGAAGTTTA\")"
   ]
  },
  {
   "cell_type": "code",
   "execution_count": null,
   "metadata": {},
   "outputs": [],
   "source": [
    "# Create a LIME tabular interpreter\n",
    "interpreter = \"anchor\"\n",
    "explanation_configs = {\n",
    "    \"use_proba\": False,\n",
    "    \"batch_size\": 100\n",
    "}\n",
    "interpreter_params = {\n",
    "    \"class_names\": class_names,\n",
    "    \"nlp\": classifier.language,\n",
    "    \"unk_token\": 'N',\n",
    "    \"sep_token\": '',\n",
    "    \"use_unk_distribution\": True\n",
    "}\n",
    "\n",
    "explainer = UWModel(interpreter, task, data_type, explanation_configs, **interpreter_params)"
   ]
  },
  {
   "cell_type": "code",
   "execution_count": null,
   "metadata": {},
   "outputs": [],
   "source": [
    "classifier.use_labels = True\n",
    "explainer.interpret(classifier.predict, \"TGGCCAACCAGGGGGCGCTT\")"
   ]
  },
  {
   "cell_type": "code",
   "execution_count": null,
   "metadata": {},
   "outputs": [],
   "source": []
  }
 ],
 "metadata": {
  "kernelspec": {
   "display_name": "Python 3",
   "language": "python",
   "name": "python3"
  },
  "language_info": {
   "codemirror_mode": {
    "name": "ipython",
    "version": 3
   },
   "file_extension": ".py",
   "mimetype": "text/x-python",
   "name": "python",
   "nbconvert_exporter": "python",
   "pygments_lexer": "ipython3",
   "version": "3.6.5"
  }
 },
 "nbformat": 4,
 "nbformat_minor": 2
}

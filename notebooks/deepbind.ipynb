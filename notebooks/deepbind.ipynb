{
 "cells": [
  {
   "cell_type": "markdown",
   "metadata": {},
   "source": [
    "# Having fun with DeepBind"
   ]
  },
  {
   "cell_type": "code",
   "execution_count": null,
   "metadata": {},
   "outputs": [],
   "source": [
    "from depiction.models.deepbind import DeepBind\n",
    "from depiction.core import Task, DataType\n",
    "from depiction.interpreters.uw_model import UWModel\n",
    "from depiction.models.deepbind import create_DNA_language\n",
    "from ipywidgets import interact"
   ]
  },
  {
   "cell_type": "markdown",
   "metadata": {},
   "source": [
    "## Setup task"
   ]
  },
  {
   "cell_type": "code",
   "execution_count": null,
   "metadata": {},
   "outputs": [],
   "source": [
    "task = Task.CLASSIFICATION\n",
    "data_type = DataType.TEXT\n",
    "class_names = [\"NOT BINDING\", \"BINDING\"]"
   ]
  },
  {
   "cell_type": "markdown",
   "metadata": {},
   "source": [
    "# Instantiate the interpreters"
   ]
  },
  {
   "cell_type": "code",
   "execution_count": null,
   "metadata": {},
   "outputs": [],
   "source": [
    "# Create a LIME text interpreter\n",
    "interpreter = \"lime\"\n",
    "explanation_configs = {\n",
    "    \"labels\": (1,),\n",
    "}\n",
    "interpreter_params = {\n",
    "    \"class_names\": class_names,\n",
    "    \"split_expression\": list,\n",
    "    \"bow\": False,\n",
    "    \"char_level\": True\n",
    "}\n",
    "\n",
    "lime_explainer = UWModel(interpreter, task, data_type, explanation_configs, **interpreter_params)\n",
    "\n",
    "# Create Anchor text intepreter\n",
    "interpreter = \"anchor\"\n",
    "explanation_configs = {\n",
    "    \"use_proba\": False,\n",
    "    \"batch_size\": 100\n",
    "}\n",
    "interpreter_params = {\n",
    "    \"class_names\": class_names,\n",
    "    \"nlp\": create_DNA_language(),\n",
    "    \"unk_token\": 'N',\n",
    "    \"sep_token\": '',\n",
    "    \"use_unk_distribution\": True\n",
    "}\n",
    "\n",
    "anchor_explainer = UWModel(interpreter, task, data_type, explanation_configs, **interpreter_params)"
   ]
  },
  {
   "cell_type": "markdown",
   "metadata": {},
   "source": [
    "### Wrapper for the interactive widget"
   ]
  },
  {
   "cell_type": "code",
   "execution_count": null,
   "metadata": {},
   "outputs": [],
   "source": [
    "class InteractiveWrapper:\n",
    "    def __init__(self, classifier):\n",
    "        self.classifier = classifier\n",
    "        \n",
    "    def callback(self, sequence):\n",
    "        # LIME\n",
    "        self.classifier.use_labels = False\n",
    "        lime_explainer.interpret(self.classifier.predict, sequence)\n",
    "        # Anchors \n",
    "        #self.classifier.use_labels = True\n",
    "        #anchor_explainer.interpret(self.classifier.predict, sequence)"
   ]
  },
  {
   "cell_type": "markdown",
   "metadata": {},
   "source": [
    "# Let's interpret"
   ]
  },
  {
   "cell_type": "code",
   "execution_count": null,
   "metadata": {},
   "outputs": [],
   "source": [
    "tf_factor_id = \"D00328.003\"\n",
    "classifier = DeepBind(tf_factor_id = tf_factor_id)\n",
    "wrapper = InteractiveWrapper(classifier)\n",
    "\n",
    "interact(wrapper.callback, sequence=[\"AGGCTAGCTAGGGGCGCCC\", \"AGGCTAGCTAGGGGCGCTT\", \"AGGGTAGCTAGGGGCGCTT\", \"AGGGTAGCTGGGGGCGCTT\", \"AGGCTAGGTGGGGGCGCTT\", \"AGGCTCGGTGGGGGCGCTT\", \"AGGCTCGGTAGGGGGCGATT\"])"
   ]
  },
  {
   "cell_type": "code",
   "execution_count": null,
   "metadata": {},
   "outputs": [],
   "source": [
    "tf_factor_id = \"D00794.047\"\n",
    "classifier = DeepBind(tf_factor_id = tf_factor_id)\n",
    "wrapper = InteractiveWrapper(classifier)\n",
    "\n",
    "interact(wrapper.callback, sequence=\"TGGCCAACCAGGGGGCGCTT\")"
   ]
  },
  {
   "cell_type": "code",
   "execution_count": null,
   "metadata": {},
   "outputs": [],
   "source": []
  }
 ],
 "metadata": {
  "kernelspec": {
   "display_name": "Python 3",
   "language": "python",
   "name": "python3"
  },
  "language_info": {
   "codemirror_mode": {
    "name": "ipython",
    "version": 3
   },
   "file_extension": ".py",
   "mimetype": "text/x-python",
   "name": "python",
   "nbconvert_exporter": "python",
   "pygments_lexer": "ipython3",
   "version": "3.6.5"
  }
 },
 "nbformat": 4,
 "nbformat_minor": 2
}
